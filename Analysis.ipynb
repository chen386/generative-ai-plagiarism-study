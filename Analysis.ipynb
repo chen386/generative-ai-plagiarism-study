{
 "cells": [
  {
   "cell_type": "code",
   "execution_count": 1,
   "id": "46465a67",
   "metadata": {},
   "outputs": [],
   "source": [
    "import ast\n",
    "import astunparse\n",
    "import base64\n",
    "import itertools\n",
    "import json\n",
    "import scipy\n",
    "\n",
    "import numpy as np\n",
    "import pandas as pd\n",
    "\n",
    "import matplotlib.pyplot as plt\n",
    "import seaborn as sns\n",
    "import statsmodels.formula.api as smf\n",
    "\n",
    "from mpl_helper import make_fig, make_fig_array, remove_fig_array_axes\n",
    "from scipy.stats import ttest_ind\n",
    "\n",
    "%matplotlib inline"
   ]
  },
  {
   "cell_type": "code",
   "execution_count": 2,
   "id": "99b01214",
   "metadata": {},
   "outputs": [],
   "source": [
    "# Marker identification funcions\n",
    "def has_advanced_syntax(qid, code):\n",
    "    # These questions come with comprehension in the given code\n",
    "    if qid in ['fixListComprehension', 'modifyConditionalListComprehension', \n",
    "               'modifyFindLargestNumberInCSV_C_mod', 'modifyFindLargestNumberInCSV_D_mod', \n",
    "               'modifyFindLargestNumberInCSV_P_mod']:\n",
    "        return False\n",
    "    for node in ast.walk(ast.parse(code)):\n",
    "        if type(node) in [ast.ListComp, ast.SetComp, ast.DictComp, ast.GeneratorExp, ast.Lambda]:\n",
    "            return True\n",
    "        if type(node) in [ast.Call]:\n",
    "            if isinstance(node.func, ast.Name):\n",
    "                if node.func.id in ['map', 'filter']:\n",
    "                    return True\n",
    "    return False\n",
    "\n",
    "def has_extra_comment(qid, code):\n",
    "    # Some questions' given code has these comments\n",
    "    builtin_comments = [\n",
    "        b'# Implement your function here.  Be sure to indent your code block!',\n",
    "        b'# Your code here',\n",
    "        b'# a float',\n",
    "        b'# an integer',\n",
    "        b'# init implementation',\n",
    "        b'# print name implementation',\n",
    "        b'# replace with your return statement',\n",
    "        b'# write your statement here',\n",
    "        b'#List comprehensions are cool',\n",
    "        b'#List comprehensions are cool',\n",
    "        b'#List comprehensions are cool, this turns all the strings from split into ints'\n",
    "    ]\n",
    "    if b\"'''\" in code or b'\"\"\"' in code:\n",
    "        return True\n",
    "    if b'#' in code:\n",
    "        splits = code.split(b'#')\n",
    "        for split in splits[1:]:\n",
    "            comment = split.split(b'\\n')[0]\n",
    "            if b'#' + comment not in builtin_comments:\n",
    "                return True\n",
    "    return False\n",
    "\n",
    "def has_extra_print(qid, code):\n",
    "    # These questions require printing\n",
    "    if 'Print' in qid or qid in ['fixAreaTrapezoid', 'fixFormatPrecision', 'fixFunctionTypeCasting', \n",
    "                                 'fixInputConversion', 'fixVariableDecrement', 'modifyFindIndexInList_C2', \n",
    "                                 'modifyFormatPrecision_C', 'modifyGetValueIfKeyExists_D', \n",
    "                                 'modifyHandleExtremeCond_D', 'modifyHandleExtreme_D', 'progCreateClass_A', \n",
    "                                 'progReadFileLines', 'progReadFileLines_C', 'progReadFileLines_ODC', \n",
    "                                 'progReadFileLines_RF']:\n",
    "        return False\n",
    "    for node in ast.walk(ast.parse(code)):\n",
    "        if type(node) in [ast.Call]:\n",
    "            if isinstance(node.func, ast.Name):\n",
    "                if node.func.id in ['print']:\n",
    "                    return True\n",
    "    return False\n",
    "\n",
    "def has_extra_code(qid, code):\n",
    "    # These questions are early in the semester questions before the introduction of functions\n",
    "    if qid in ['fixAreaTrapezoid', 'fixInputConversion', 'fixPrintStatement2', 'fixVariableDecrement']:\n",
    "        return False\n",
    "    p = ast.parse(code)\n",
    "    num_components = 0\n",
    "    for node in p.body:\n",
    "        if not isinstance(node, ast.Import) and not isinstance(node, ast.ImportFrom):\n",
    "            num_components += 1\n",
    "    return num_components > 1"
   ]
  },
  {
   "cell_type": "markdown",
   "id": "43cb85d8",
   "metadata": {},
   "source": [
    "# Loading Actual Exam/Quiz Score Data"
   ]
  },
  {
   "cell_type": "code",
   "execution_count": 3,
   "id": "aa1d4dba",
   "metadata": {},
   "outputs": [],
   "source": [
    "instance_question_actual_df = pd.read_csv('instance_questions_cs105.zip', compression='zip')"
   ]
  },
  {
   "cell_type": "code",
   "execution_count": 4,
   "id": "c559e2b3",
   "metadata": {},
   "outputs": [],
   "source": [
    "instance_question_actual_df['unique_id'] = (instance_question_actual_df['semester']\n",
    "                                            + '_' + instance_question_actual_df['user_id'].astype(str))\n",
    "instance_question_actual_df = instance_question_actual_df[instance_question_actual_df.semester.isin(['fa22', 'sp23'])]\n",
    "exam1_unique_ids = instance_question_actual_df[(instance_question_actual_df.assessment_set_name == 'Exam')\n",
    "                                               & (instance_question_actual_df.assessment_number == 1)].unique_id\n",
    "exam4_unique_ids = instance_question_actual_df[(instance_question_actual_df.assessment_set_name == 'Exam')\n",
    "                                               & (instance_question_actual_df.assessment_number == 4)].unique_id"
   ]
  },
  {
   "cell_type": "code",
   "execution_count": 5,
   "id": "3d09122f",
   "metadata": {},
   "outputs": [],
   "source": [
    "# Find semester user_id combos that have done both exam1 and exam4\n",
    "unique_ids = set(exam1_unique_ids).intersection(exam4_unique_ids)"
   ]
  },
  {
   "cell_type": "code",
   "execution_count": 6,
   "id": "a2673827",
   "metadata": {},
   "outputs": [],
   "source": [
    "# Filter by unique_ids, which is the semester user_id combos that have done both exam1 and exam4\n",
    "score_actual_df = instance_question_actual_df[instance_question_actual_df.unique_id.isin(unique_ids)].copy()"
   ]
  },
  {
   "cell_type": "code",
   "execution_count": 7,
   "id": "b1c5cc67",
   "metadata": {},
   "outputs": [],
   "source": [
    "score_actual_df = (score_actual_df\n",
    "                   .groupby(['semester', 'user_id', 'assessment_set_name', 'assessment_number'])\n",
    "                   .agg('sum')\n",
    "                   .reset_index())\n",
    "score_actual_df['score_perc'] = score_actual_df.apply(lambda row : (100 \n",
    "                                                                    * row['instance_question_points'] \n",
    "                                                                    / row['assessment_question_max_points']), \n",
    "                                                      axis=1)\n",
    "score_actual_df = score_actual_df[['semester', 'user_id', \n",
    "                                   'assessment_set_name', 'assessment_number', \n",
    "                                   'score_perc']].copy()"
   ]
  },
  {
   "cell_type": "code",
   "execution_count": 8,
   "id": "06147291",
   "metadata": {},
   "outputs": [
    {
     "name": "stdout",
     "output_type": "stream",
     "text": [
      "550\n",
      "433\n"
     ]
    }
   ],
   "source": [
    "# Number of students in each semester\n",
    "print(len(score_actual_df[score_actual_df.semester == 'fa22'].user_id.unique()))\n",
    "print(len(score_actual_df[score_actual_df.semester == 'sp23'].user_id.unique()))"
   ]
  },
  {
   "cell_type": "code",
   "execution_count": 9,
   "id": "38168e22",
   "metadata": {},
   "outputs": [
    {
     "data": {
      "text/plain": [
       "semester                object\n",
       "user_id                  int64\n",
       "assessment_set_name     object\n",
       "assessment_number        int64\n",
       "score_perc             float64\n",
       "dtype: object"
      ]
     },
     "execution_count": 9,
     "metadata": {},
     "output_type": "execute_result"
    }
   ],
   "source": [
    "# objects are strings\n",
    "score_actual_df.dtypes"
   ]
  },
  {
   "cell_type": "code",
   "execution_count": 10,
   "id": "20f1eadb",
   "metadata": {},
   "outputs": [
    {
     "data": {
      "text/html": [
       "<div>\n",
       "<style scoped>\n",
       "    .dataframe tbody tr th:only-of-type {\n",
       "        vertical-align: middle;\n",
       "    }\n",
       "\n",
       "    .dataframe tbody tr th {\n",
       "        vertical-align: top;\n",
       "    }\n",
       "\n",
       "    .dataframe thead th {\n",
       "        text-align: right;\n",
       "    }\n",
       "</style>\n",
       "<table border=\"1\" class=\"dataframe\">\n",
       "  <thead>\n",
       "    <tr style=\"text-align: right;\">\n",
       "      <th></th>\n",
       "      <th>user_id</th>\n",
       "      <th>assessment_number</th>\n",
       "      <th>score_perc</th>\n",
       "    </tr>\n",
       "  </thead>\n",
       "  <tbody>\n",
       "    <tr>\n",
       "      <th>count</th>\n",
       "      <td>8.716000e+03</td>\n",
       "      <td>8716.000000</td>\n",
       "      <td>8716.000000</td>\n",
       "    </tr>\n",
       "    <tr>\n",
       "      <th>mean</th>\n",
       "      <td>4.186264e+06</td>\n",
       "      <td>2.218334</td>\n",
       "      <td>82.935399</td>\n",
       "    </tr>\n",
       "    <tr>\n",
       "      <th>std</th>\n",
       "      <td>6.685133e+05</td>\n",
       "      <td>1.315494</td>\n",
       "      <td>15.350376</td>\n",
       "    </tr>\n",
       "    <tr>\n",
       "      <th>min</th>\n",
       "      <td>1.299640e+05</td>\n",
       "      <td>0.000000</td>\n",
       "      <td>0.000000</td>\n",
       "    </tr>\n",
       "    <tr>\n",
       "      <th>25%</th>\n",
       "      <td>4.316445e+06</td>\n",
       "      <td>1.000000</td>\n",
       "      <td>77.106984</td>\n",
       "    </tr>\n",
       "    <tr>\n",
       "      <th>50%</th>\n",
       "      <td>4.319873e+06</td>\n",
       "      <td>2.000000</td>\n",
       "      <td>87.680097</td>\n",
       "    </tr>\n",
       "    <tr>\n",
       "      <th>75%</th>\n",
       "      <td>4.369417e+06</td>\n",
       "      <td>3.000000</td>\n",
       "      <td>93.819257</td>\n",
       "    </tr>\n",
       "    <tr>\n",
       "      <th>max</th>\n",
       "      <td>4.422763e+06</td>\n",
       "      <td>4.000000</td>\n",
       "      <td>100.000000</td>\n",
       "    </tr>\n",
       "  </tbody>\n",
       "</table>\n",
       "</div>"
      ],
      "text/plain": [
       "            user_id  assessment_number   score_perc\n",
       "count  8.716000e+03        8716.000000  8716.000000\n",
       "mean   4.186264e+06           2.218334    82.935399\n",
       "std    6.685133e+05           1.315494    15.350376\n",
       "min    1.299640e+05           0.000000     0.000000\n",
       "25%    4.316445e+06           1.000000    77.106984\n",
       "50%    4.319873e+06           2.000000    87.680097\n",
       "75%    4.369417e+06           3.000000    93.819257\n",
       "max    4.422763e+06           4.000000   100.000000"
      ]
     },
     "execution_count": 10,
     "metadata": {},
     "output_type": "execute_result"
    }
   ],
   "source": [
    "score_actual_df.describe()"
   ]
  },
  {
   "cell_type": "code",
   "execution_count": 11,
   "id": "8820c057",
   "metadata": {},
   "outputs": [],
   "source": [
    "score_actual_pivot_df = (score_actual_df\n",
    "                         .pivot(index=['semester', 'user_id'], \n",
    "                                columns=['assessment_set_name', 'assessment_number'], \n",
    "                                values='score_perc')\n",
    "                         .reset_index())\n",
    "score_actual_pivot_df.columns = ['semester', 'user_id', \n",
    "                                 'exam0', 'exam1', 'exam2', 'exam3', 'exam4', \n",
    "                                 'quiz1', 'quiz2', 'quiz3', 'quiz4']"
   ]
  },
  {
   "cell_type": "code",
   "execution_count": 12,
   "id": "42b28212",
   "metadata": {},
   "outputs": [
    {
     "data": {
      "text/plain": [
       "semester     object\n",
       "user_id       int64\n",
       "exam0       float64\n",
       "exam1       float64\n",
       "exam2       float64\n",
       "exam3       float64\n",
       "exam4       float64\n",
       "quiz1       float64\n",
       "quiz2       float64\n",
       "quiz3       float64\n",
       "quiz4       float64\n",
       "dtype: object"
      ]
     },
     "execution_count": 12,
     "metadata": {},
     "output_type": "execute_result"
    }
   ],
   "source": [
    "# objects are strings\n",
    "score_actual_pivot_df.dtypes"
   ]
  },
  {
   "cell_type": "code",
   "execution_count": 13,
   "id": "357d5603",
   "metadata": {},
   "outputs": [
    {
     "data": {
      "text/html": [
       "<div>\n",
       "<style scoped>\n",
       "    .dataframe tbody tr th:only-of-type {\n",
       "        vertical-align: middle;\n",
       "    }\n",
       "\n",
       "    .dataframe tbody tr th {\n",
       "        vertical-align: top;\n",
       "    }\n",
       "\n",
       "    .dataframe thead th {\n",
       "        text-align: right;\n",
       "    }\n",
       "</style>\n",
       "<table border=\"1\" class=\"dataframe\">\n",
       "  <thead>\n",
       "    <tr style=\"text-align: right;\">\n",
       "      <th></th>\n",
       "      <th>user_id</th>\n",
       "      <th>exam0</th>\n",
       "      <th>exam1</th>\n",
       "      <th>exam2</th>\n",
       "      <th>exam3</th>\n",
       "      <th>exam4</th>\n",
       "      <th>quiz1</th>\n",
       "      <th>quiz2</th>\n",
       "      <th>quiz3</th>\n",
       "      <th>quiz4</th>\n",
       "    </tr>\n",
       "  </thead>\n",
       "  <tbody>\n",
       "    <tr>\n",
       "      <th>count</th>\n",
       "      <td>9.830000e+02</td>\n",
       "      <td>972.000000</td>\n",
       "      <td>983.000000</td>\n",
       "      <td>976.000000</td>\n",
       "      <td>975.000000</td>\n",
       "      <td>983.000000</td>\n",
       "      <td>964.000000</td>\n",
       "      <td>961.000000</td>\n",
       "      <td>951.000000</td>\n",
       "      <td>951.000000</td>\n",
       "    </tr>\n",
       "    <tr>\n",
       "      <th>mean</th>\n",
       "      <td>4.184074e+06</td>\n",
       "      <td>87.394239</td>\n",
       "      <td>83.370227</td>\n",
       "      <td>78.879903</td>\n",
       "      <td>69.809910</td>\n",
       "      <td>75.857219</td>\n",
       "      <td>90.237628</td>\n",
       "      <td>87.972522</td>\n",
       "      <td>83.385594</td>\n",
       "      <td>89.921498</td>\n",
       "    </tr>\n",
       "    <tr>\n",
       "      <th>std</th>\n",
       "      <td>6.746661e+05</td>\n",
       "      <td>9.521232</td>\n",
       "      <td>12.305887</td>\n",
       "      <td>16.265694</td>\n",
       "      <td>20.491058</td>\n",
       "      <td>18.017582</td>\n",
       "      <td>9.481180</td>\n",
       "      <td>10.733512</td>\n",
       "      <td>12.673404</td>\n",
       "      <td>10.571796</td>\n",
       "    </tr>\n",
       "    <tr>\n",
       "      <th>min</th>\n",
       "      <td>1.299640e+05</td>\n",
       "      <td>32.000000</td>\n",
       "      <td>23.733333</td>\n",
       "      <td>18.918919</td>\n",
       "      <td>7.432432</td>\n",
       "      <td>0.000000</td>\n",
       "      <td>30.220000</td>\n",
       "      <td>0.000000</td>\n",
       "      <td>13.513514</td>\n",
       "      <td>20.666667</td>\n",
       "    </tr>\n",
       "    <tr>\n",
       "      <th>25%</th>\n",
       "      <td>4.316443e+06</td>\n",
       "      <td>83.000000</td>\n",
       "      <td>78.000000</td>\n",
       "      <td>70.386507</td>\n",
       "      <td>56.787162</td>\n",
       "      <td>65.380807</td>\n",
       "      <td>87.333333</td>\n",
       "      <td>84.086667</td>\n",
       "      <td>78.219595</td>\n",
       "      <td>87.356667</td>\n",
       "    </tr>\n",
       "    <tr>\n",
       "      <th>50%</th>\n",
       "      <td>4.319853e+06</td>\n",
       "      <td>90.000000</td>\n",
       "      <td>86.133333</td>\n",
       "      <td>82.557047</td>\n",
       "      <td>73.054054</td>\n",
       "      <td>80.286885</td>\n",
       "      <td>93.330000</td>\n",
       "      <td>90.933333</td>\n",
       "      <td>86.054054</td>\n",
       "      <td>93.166667</td>\n",
       "    </tr>\n",
       "    <tr>\n",
       "      <th>75%</th>\n",
       "      <td>4.369414e+06</td>\n",
       "      <td>93.000000</td>\n",
       "      <td>92.366667</td>\n",
       "      <td>91.489933</td>\n",
       "      <td>86.506757</td>\n",
       "      <td>90.022516</td>\n",
       "      <td>96.000000</td>\n",
       "      <td>95.333333</td>\n",
       "      <td>92.483108</td>\n",
       "      <td>96.666667</td>\n",
       "    </tr>\n",
       "    <tr>\n",
       "      <th>max</th>\n",
       "      <td>4.422763e+06</td>\n",
       "      <td>100.000000</td>\n",
       "      <td>100.000000</td>\n",
       "      <td>100.000000</td>\n",
       "      <td>100.000000</td>\n",
       "      <td>100.000000</td>\n",
       "      <td>100.000000</td>\n",
       "      <td>100.000000</td>\n",
       "      <td>100.000000</td>\n",
       "      <td>100.000000</td>\n",
       "    </tr>\n",
       "  </tbody>\n",
       "</table>\n",
       "</div>"
      ],
      "text/plain": [
       "            user_id       exam0       exam1       exam2       exam3  \\\n",
       "count  9.830000e+02  972.000000  983.000000  976.000000  975.000000   \n",
       "mean   4.184074e+06   87.394239   83.370227   78.879903   69.809910   \n",
       "std    6.746661e+05    9.521232   12.305887   16.265694   20.491058   \n",
       "min    1.299640e+05   32.000000   23.733333   18.918919    7.432432   \n",
       "25%    4.316443e+06   83.000000   78.000000   70.386507   56.787162   \n",
       "50%    4.319853e+06   90.000000   86.133333   82.557047   73.054054   \n",
       "75%    4.369414e+06   93.000000   92.366667   91.489933   86.506757   \n",
       "max    4.422763e+06  100.000000  100.000000  100.000000  100.000000   \n",
       "\n",
       "            exam4       quiz1       quiz2       quiz3       quiz4  \n",
       "count  983.000000  964.000000  961.000000  951.000000  951.000000  \n",
       "mean    75.857219   90.237628   87.972522   83.385594   89.921498  \n",
       "std     18.017582    9.481180   10.733512   12.673404   10.571796  \n",
       "min      0.000000   30.220000    0.000000   13.513514   20.666667  \n",
       "25%     65.380807   87.333333   84.086667   78.219595   87.356667  \n",
       "50%     80.286885   93.330000   90.933333   86.054054   93.166667  \n",
       "75%     90.022516   96.000000   95.333333   92.483108   96.666667  \n",
       "max    100.000000  100.000000  100.000000  100.000000  100.000000  "
      ]
     },
     "execution_count": 13,
     "metadata": {},
     "output_type": "execute_result"
    }
   ],
   "source": [
    "score_actual_pivot_df.describe()"
   ]
  },
  {
   "cell_type": "markdown",
   "id": "456f72ab",
   "metadata": {},
   "source": [
    "# Loading Predicted Exam/Quiz Score Data"
   ]
  },
  {
   "cell_type": "code",
   "execution_count": 14,
   "id": "e9cca99f",
   "metadata": {},
   "outputs": [],
   "source": [
    "instance_question_predicted_df = pd.read_csv('irt_prediction_l@s_max_a_2.zip', compression='zip')"
   ]
  },
  {
   "cell_type": "code",
   "execution_count": 15,
   "id": "8491e1a2",
   "metadata": {},
   "outputs": [],
   "source": [
    "# Filter by unique_ids, which is the semester user_id combos that have done both exam1 and exam4\n",
    "instance_question_predicted_df['unique_id'] = instance_question_predicted_df['semester'] + '_' + instance_question_predicted_df['user_id'].astype(str)\n",
    "instance_question_predicted_df = instance_question_predicted_df[instance_question_predicted_df.unique_id.isin(unique_ids)].copy()"
   ]
  },
  {
   "cell_type": "code",
   "execution_count": 16,
   "id": "9ecf1497",
   "metadata": {},
   "outputs": [],
   "source": [
    "assessment_prediction_dfs = []\n",
    "for semester in ['fa22', 'sp23']:\n",
    "    for assessment_set_name in ['Exam', 'Quiz']:\n",
    "        for assessment_number in [1, 2, 3, 4]:\n",
    "            info_assessment = json.load(open(f'pl_assessment_info/{semester}/{assessment_set_name.lower()}{assessment_number}/infoAssessment.json'))\n",
    "            \n",
    "            assessment_df = instance_question_predicted_df[(instance_question_predicted_df.assessment_set_name == assessment_set_name)\n",
    "                                                           & (instance_question_predicted_df.assessment_number == assessment_number)]\n",
    "            \n",
    "            question_slot_dfs = []\n",
    "            for zone in info_assessment['zones']:\n",
    "                for question_slot in zone['questions']:\n",
    "                    \n",
    "                    # figure out number of questions to be chosen for the slot\n",
    "                    # and all questions in the slot\n",
    "                    \n",
    "                    # if 'id' is in the dictionary, it is a single question, otherwise a question pool\n",
    "                    if 'id' in question_slot: \n",
    "                        num_choose = 1\n",
    "                        questions = [question_slot['id']]\n",
    "                    else:\n",
    "                        if len(question_slot['alternatives']) > 1:\n",
    "                            num_choose = question_slot['numberChoose']\n",
    "                        else:\n",
    "                            num_choose = 1\n",
    "\n",
    "                        questions = []\n",
    "                        for question in question_slot['alternatives']:\n",
    "                            questions.append(question['id'])\n",
    "                            \n",
    "                    # number of points the question slot offers\n",
    "                    if isinstance(question_slot['points'], int):\n",
    "                        num_points = question_slot['points']\n",
    "                    else:\n",
    "                        num_points = question_slot['points'][0]\n",
    "            \n",
    "                    question_slot_df = assessment_df[assessment_df.question_name.isin(questions)].groupby('unique_id').agg({'prediction' : 'mean'}).reset_index()\n",
    "                    question_slot_df['points'] = num_points * num_choose * question_slot_df['prediction']\n",
    "                    question_slot_df['max_points'] = num_points * num_choose\n",
    "\n",
    "                    question_slot_dfs.append(question_slot_df)\n",
    "            \n",
    "            assessment_prediction_df = pd.concat(question_slot_dfs).groupby('unique_id').agg('sum').reset_index()\n",
    "            assessment_prediction_df['semester'] = assessment_prediction_df['unique_id'].apply(lambda s : s.split('_')[0])\n",
    "            assessment_prediction_df['user_id'] = assessment_prediction_df['unique_id'].apply(lambda s : int(s.split('_')[1]))\n",
    "            assessment_prediction_df['assessment_set_name'] = assessment_set_name\n",
    "            assessment_prediction_df['assessment_number'] = assessment_number\n",
    "            assessment_prediction_df['score_perc'] = 100 * assessment_prediction_df['points'] / assessment_prediction_df['max_points']\n",
    "            assessment_prediction_df['version'] = semester\n",
    "            \n",
    "            assessment_prediction_dfs.append(assessment_prediction_df)"
   ]
  },
  {
   "cell_type": "code",
   "execution_count": 17,
   "id": "eabefcdc",
   "metadata": {},
   "outputs": [],
   "source": [
    "score_predicted_df = pd.concat(assessment_prediction_dfs)\n",
    "score_predicted_df = score_predicted_df.groupby(['semester', 'user_id', 'assessment_set_name', 'assessment_number']).agg({'score_perc' : 'mean'}).reset_index()"
   ]
  },
  {
   "cell_type": "code",
   "execution_count": 18,
   "id": "a02e8f97",
   "metadata": {},
   "outputs": [
    {
     "data": {
      "text/plain": [
       "semester                object\n",
       "user_id                  int64\n",
       "assessment_set_name     object\n",
       "assessment_number        int64\n",
       "score_perc             float64\n",
       "dtype: object"
      ]
     },
     "execution_count": 18,
     "metadata": {},
     "output_type": "execute_result"
    }
   ],
   "source": [
    "# objects are strings\n",
    "score_predicted_df.dtypes"
   ]
  },
  {
   "cell_type": "code",
   "execution_count": 19,
   "id": "d23a6c0c",
   "metadata": {},
   "outputs": [
    {
     "data": {
      "text/html": [
       "<div>\n",
       "<style scoped>\n",
       "    .dataframe tbody tr th:only-of-type {\n",
       "        vertical-align: middle;\n",
       "    }\n",
       "\n",
       "    .dataframe tbody tr th {\n",
       "        vertical-align: top;\n",
       "    }\n",
       "\n",
       "    .dataframe thead th {\n",
       "        text-align: right;\n",
       "    }\n",
       "</style>\n",
       "<table border=\"1\" class=\"dataframe\">\n",
       "  <thead>\n",
       "    <tr style=\"text-align: right;\">\n",
       "      <th></th>\n",
       "      <th>user_id</th>\n",
       "      <th>assessment_number</th>\n",
       "      <th>score_perc</th>\n",
       "    </tr>\n",
       "  </thead>\n",
       "  <tbody>\n",
       "    <tr>\n",
       "      <th>count</th>\n",
       "      <td>7.744000e+03</td>\n",
       "      <td>7744.000000</td>\n",
       "      <td>7744.000000</td>\n",
       "    </tr>\n",
       "    <tr>\n",
       "      <th>mean</th>\n",
       "      <td>4.186536e+06</td>\n",
       "      <td>2.496772</td>\n",
       "      <td>82.418204</td>\n",
       "    </tr>\n",
       "    <tr>\n",
       "      <th>std</th>\n",
       "      <td>6.674947e+05</td>\n",
       "      <td>1.119141</td>\n",
       "      <td>15.335756</td>\n",
       "    </tr>\n",
       "    <tr>\n",
       "      <th>min</th>\n",
       "      <td>1.299640e+05</td>\n",
       "      <td>1.000000</td>\n",
       "      <td>25.558407</td>\n",
       "    </tr>\n",
       "    <tr>\n",
       "      <th>25%</th>\n",
       "      <td>4.316445e+06</td>\n",
       "      <td>1.000000</td>\n",
       "      <td>75.988475</td>\n",
       "    </tr>\n",
       "    <tr>\n",
       "      <th>50%</th>\n",
       "      <td>4.319853e+06</td>\n",
       "      <td>2.000000</td>\n",
       "      <td>87.225609</td>\n",
       "    </tr>\n",
       "    <tr>\n",
       "      <th>75%</th>\n",
       "      <td>4.369417e+06</td>\n",
       "      <td>3.000000</td>\n",
       "      <td>93.697886</td>\n",
       "    </tr>\n",
       "    <tr>\n",
       "      <th>max</th>\n",
       "      <td>4.422763e+06</td>\n",
       "      <td>4.000000</td>\n",
       "      <td>98.527152</td>\n",
       "    </tr>\n",
       "  </tbody>\n",
       "</table>\n",
       "</div>"
      ],
      "text/plain": [
       "            user_id  assessment_number   score_perc\n",
       "count  7.744000e+03        7744.000000  7744.000000\n",
       "mean   4.186536e+06           2.496772    82.418204\n",
       "std    6.674947e+05           1.119141    15.335756\n",
       "min    1.299640e+05           1.000000    25.558407\n",
       "25%    4.316445e+06           1.000000    75.988475\n",
       "50%    4.319853e+06           2.000000    87.225609\n",
       "75%    4.369417e+06           3.000000    93.697886\n",
       "max    4.422763e+06           4.000000    98.527152"
      ]
     },
     "execution_count": 19,
     "metadata": {},
     "output_type": "execute_result"
    }
   ],
   "source": [
    "score_predicted_df.describe()"
   ]
  },
  {
   "cell_type": "code",
   "execution_count": 20,
   "id": "cd66fdb3",
   "metadata": {},
   "outputs": [],
   "source": [
    "score_predicted_pivot_df = (score_predicted_df\n",
    "                            .pivot(index=['semester', 'user_id'], \n",
    "                                   columns=['assessment_set_name', 'assessment_number'], \n",
    "                                   values='score_perc')\n",
    "                            .reset_index())\n",
    "score_predicted_pivot_df.columns = ['semester', 'user_id', \n",
    "                                    'exam1', 'exam2', 'exam3', 'exam4', \n",
    "                                    'quiz1', 'quiz2', 'quiz3', 'quiz4']"
   ]
  },
  {
   "cell_type": "code",
   "execution_count": 21,
   "id": "55f28be5",
   "metadata": {},
   "outputs": [
    {
     "data": {
      "text/plain": [
       "semester     object\n",
       "user_id       int64\n",
       "exam1       float64\n",
       "exam2       float64\n",
       "exam3       float64\n",
       "exam4       float64\n",
       "quiz1       float64\n",
       "quiz2       float64\n",
       "quiz3       float64\n",
       "quiz4       float64\n",
       "dtype: object"
      ]
     },
     "execution_count": 21,
     "metadata": {},
     "output_type": "execute_result"
    }
   ],
   "source": [
    "# objects are strings\n",
    "score_predicted_pivot_df.dtypes"
   ]
  },
  {
   "cell_type": "code",
   "execution_count": 22,
   "id": "e4118e36",
   "metadata": {},
   "outputs": [
    {
     "data": {
      "text/html": [
       "<div>\n",
       "<style scoped>\n",
       "    .dataframe tbody tr th:only-of-type {\n",
       "        vertical-align: middle;\n",
       "    }\n",
       "\n",
       "    .dataframe tbody tr th {\n",
       "        vertical-align: top;\n",
       "    }\n",
       "\n",
       "    .dataframe thead th {\n",
       "        text-align: right;\n",
       "    }\n",
       "</style>\n",
       "<table border=\"1\" class=\"dataframe\">\n",
       "  <thead>\n",
       "    <tr style=\"text-align: right;\">\n",
       "      <th></th>\n",
       "      <th>user_id</th>\n",
       "      <th>exam1</th>\n",
       "      <th>exam2</th>\n",
       "      <th>exam3</th>\n",
       "      <th>exam4</th>\n",
       "      <th>quiz1</th>\n",
       "      <th>quiz2</th>\n",
       "      <th>quiz3</th>\n",
       "      <th>quiz4</th>\n",
       "    </tr>\n",
       "  </thead>\n",
       "  <tbody>\n",
       "    <tr>\n",
       "      <th>count</th>\n",
       "      <td>9.830000e+02</td>\n",
       "      <td>983.000000</td>\n",
       "      <td>976.000000</td>\n",
       "      <td>975.000000</td>\n",
       "      <td>983.000000</td>\n",
       "      <td>964.000000</td>\n",
       "      <td>961.000000</td>\n",
       "      <td>951.000000</td>\n",
       "      <td>951.000000</td>\n",
       "    </tr>\n",
       "    <tr>\n",
       "      <th>mean</th>\n",
       "      <td>4.184074e+06</td>\n",
       "      <td>83.493131</td>\n",
       "      <td>78.908352</td>\n",
       "      <td>70.057242</td>\n",
       "      <td>75.971229</td>\n",
       "      <td>90.128763</td>\n",
       "      <td>88.010347</td>\n",
       "      <td>83.462328</td>\n",
       "      <td>89.735017</td>\n",
       "    </tr>\n",
       "    <tr>\n",
       "      <th>std</th>\n",
       "      <td>6.746661e+05</td>\n",
       "      <td>11.519918</td>\n",
       "      <td>15.617045</td>\n",
       "      <td>19.911867</td>\n",
       "      <td>17.397210</td>\n",
       "      <td>8.969639</td>\n",
       "      <td>10.435443</td>\n",
       "      <td>12.017798</td>\n",
       "      <td>10.662634</td>\n",
       "    </tr>\n",
       "    <tr>\n",
       "      <th>min</th>\n",
       "      <td>1.299640e+05</td>\n",
       "      <td>51.181452</td>\n",
       "      <td>35.498990</td>\n",
       "      <td>25.558407</td>\n",
       "      <td>27.385757</td>\n",
       "      <td>50.126973</td>\n",
       "      <td>42.262070</td>\n",
       "      <td>33.060755</td>\n",
       "      <td>28.033763</td>\n",
       "    </tr>\n",
       "    <tr>\n",
       "      <th>25%</th>\n",
       "      <td>4.316443e+06</td>\n",
       "      <td>77.228577</td>\n",
       "      <td>70.354466</td>\n",
       "      <td>56.922017</td>\n",
       "      <td>65.668749</td>\n",
       "      <td>87.131034</td>\n",
       "      <td>84.570551</td>\n",
       "      <td>77.888518</td>\n",
       "      <td>87.424397</td>\n",
       "    </tr>\n",
       "    <tr>\n",
       "      <th>50%</th>\n",
       "      <td>4.319853e+06</td>\n",
       "      <td>85.748970</td>\n",
       "      <td>82.039102</td>\n",
       "      <td>72.566172</td>\n",
       "      <td>80.591028</td>\n",
       "      <td>92.800505</td>\n",
       "      <td>91.053012</td>\n",
       "      <td>86.234246</td>\n",
       "      <td>92.786058</td>\n",
       "    </tr>\n",
       "    <tr>\n",
       "      <th>75%</th>\n",
       "      <td>4.369414e+06</td>\n",
       "      <td>92.344631</td>\n",
       "      <td>91.604363</td>\n",
       "      <td>86.686180</td>\n",
       "      <td>89.833027</td>\n",
       "      <td>95.944161</td>\n",
       "      <td>95.234949</td>\n",
       "      <td>92.494498</td>\n",
       "      <td>96.599815</td>\n",
       "    </tr>\n",
       "    <tr>\n",
       "      <th>max</th>\n",
       "      <td>4.422763e+06</td>\n",
       "      <td>98.527152</td>\n",
       "      <td>98.248458</td>\n",
       "      <td>98.107347</td>\n",
       "      <td>98.025567</td>\n",
       "      <td>98.376359</td>\n",
       "      <td>98.254889</td>\n",
       "      <td>97.494573</td>\n",
       "      <td>98.204842</td>\n",
       "    </tr>\n",
       "  </tbody>\n",
       "</table>\n",
       "</div>"
      ],
      "text/plain": [
       "            user_id       exam1       exam2       exam3       exam4  \\\n",
       "count  9.830000e+02  983.000000  976.000000  975.000000  983.000000   \n",
       "mean   4.184074e+06   83.493131   78.908352   70.057242   75.971229   \n",
       "std    6.746661e+05   11.519918   15.617045   19.911867   17.397210   \n",
       "min    1.299640e+05   51.181452   35.498990   25.558407   27.385757   \n",
       "25%    4.316443e+06   77.228577   70.354466   56.922017   65.668749   \n",
       "50%    4.319853e+06   85.748970   82.039102   72.566172   80.591028   \n",
       "75%    4.369414e+06   92.344631   91.604363   86.686180   89.833027   \n",
       "max    4.422763e+06   98.527152   98.248458   98.107347   98.025567   \n",
       "\n",
       "            quiz1       quiz2       quiz3       quiz4  \n",
       "count  964.000000  961.000000  951.000000  951.000000  \n",
       "mean    90.128763   88.010347   83.462328   89.735017  \n",
       "std      8.969639   10.435443   12.017798   10.662634  \n",
       "min     50.126973   42.262070   33.060755   28.033763  \n",
       "25%     87.131034   84.570551   77.888518   87.424397  \n",
       "50%     92.800505   91.053012   86.234246   92.786058  \n",
       "75%     95.944161   95.234949   92.494498   96.599815  \n",
       "max     98.376359   98.254889   97.494573   98.204842  "
      ]
     },
     "execution_count": 22,
     "metadata": {},
     "output_type": "execute_result"
    }
   ],
   "source": [
    "score_predicted_pivot_df.describe()"
   ]
  },
  {
   "cell_type": "markdown",
   "id": "caecbe67",
   "metadata": {},
   "source": [
    "# Loading Homework/Exam/Quiz Programming Question Submission Data"
   ]
  },
  {
   "cell_type": "code",
   "execution_count": 23,
   "id": "a182d323",
   "metadata": {},
   "outputs": [],
   "source": [
    "question_type_df = pd.read_csv('question_types.csv')\n",
    "\n",
    "submission_dfs = []\n",
    "for semester in ['fa22', 'sp23']:\n",
    "    submission_df = pd.read_csv(f'log_cs105{semester}_with_submitted_answer.zip', compression='zip')\n",
    "    submission_df['semester'] = semester\n",
    "    submission_df['timedelta_second'] = (pd\n",
    "                                         .to_timedelta(submission_df['timedelta'])\n",
    "                                         .apply(lambda timedelta : timedelta.total_seconds()))\n",
    "    \n",
    "    submission_df = submission_df.merge(question_type_df, \n",
    "                                        left_on='qid', \n",
    "                                        right_on='question_name').drop('qid', axis=1)\n",
    "    submission_df = submission_df[submission_df.question_type == 'programming']\n",
    "    submission_dfs.append(submission_df)\n",
    "submission_df = (pd\n",
    "                 .concat(submission_dfs)\n",
    "                 .dropna(subset=['submitted_answer'])) # need to accumulate timedelta if ever want to analyze time\n",
    "                                                       # dropped save only submissions since not analyzing time\n",
    "\n",
    "# Filter by unique_ids\n",
    "submission_df['unique_id'] = submission_df['semester'] + '_' + submission_df['user_id'].astype(str)\n",
    "submission_df = submission_df[submission_df.unique_id.isin(unique_ids)].copy()\n",
    "\n",
    "submission_df['submitted_code'] = (submission_df\n",
    "                                   .submitted_answer\n",
    "                                   .apply(lambda s : (base64\n",
    "                                                      .b64decode(eval(s)['_files'][0]['contents'])\n",
    "                                                      .strip())))\n",
    "# Have to do this because some code has strange ending sequence that ast.parse complains about\n",
    "submission_df['submitted_code'] = (submission_df\n",
    "                                   .submitted_code\n",
    "                                   .apply(lambda s : s[0:-1] if s.endswith(b'\\\\') else s[0:]))\n",
    "\n",
    "submission_df = submission_df[['semester', 'user_id', \n",
    "                               'assessment_set_name', 'assessment_number', \n",
    "                               'question_name', 'correct', 'timedelta_second', \n",
    "                               'submitted_code']].copy()\n",
    "\n",
    "# Apply marker detections\n",
    "for col_name, func_name in [('syntax', has_advanced_syntax), \n",
    "                            ('comment', has_extra_comment), \n",
    "                            ('print', has_extra_print), \n",
    "                            ('code', has_extra_code)]:\n",
    "    submission_df[col_name] = submission_df.apply(lambda row : func_name(row['question_name'], \n",
    "                                                                         row['submitted_code']), \n",
    "                                                  axis=1)\n",
    "\n",
    "# The any marker\n",
    "submission_df['any'] = submission_df.apply(lambda row : True if row['syntax'] \n",
    "                                           or row['comment'] \n",
    "                                           or row['print'] \n",
    "                                           or row['code'] else False, axis=1)"
   ]
  },
  {
   "cell_type": "code",
   "execution_count": 24,
   "id": "03f3ef07",
   "metadata": {},
   "outputs": [
    {
     "data": {
      "text/plain": [
       "semester                object\n",
       "user_id                  int64\n",
       "assessment_set_name     object\n",
       "assessment_number        int64\n",
       "question_name           object\n",
       "correct                   bool\n",
       "timedelta_second       float64\n",
       "submitted_code          object\n",
       "syntax                    bool\n",
       "comment                   bool\n",
       "print                     bool\n",
       "code                      bool\n",
       "any                       bool\n",
       "dtype: object"
      ]
     },
     "execution_count": 24,
     "metadata": {},
     "output_type": "execute_result"
    }
   ],
   "source": [
    "# objects are strings\n",
    "submission_df.dtypes"
   ]
  },
  {
   "cell_type": "code",
   "execution_count": 25,
   "id": "e1556c6e",
   "metadata": {},
   "outputs": [
    {
     "data": {
      "text/html": [
       "<div>\n",
       "<style scoped>\n",
       "    .dataframe tbody tr th:only-of-type {\n",
       "        vertical-align: middle;\n",
       "    }\n",
       "\n",
       "    .dataframe tbody tr th {\n",
       "        vertical-align: top;\n",
       "    }\n",
       "\n",
       "    .dataframe thead th {\n",
       "        text-align: right;\n",
       "    }\n",
       "</style>\n",
       "<table border=\"1\" class=\"dataframe\">\n",
       "  <thead>\n",
       "    <tr style=\"text-align: right;\">\n",
       "      <th></th>\n",
       "      <th>user_id</th>\n",
       "      <th>assessment_number</th>\n",
       "      <th>timedelta_second</th>\n",
       "    </tr>\n",
       "  </thead>\n",
       "  <tbody>\n",
       "    <tr>\n",
       "      <th>count</th>\n",
       "      <td>2.945250e+05</td>\n",
       "      <td>294525.000000</td>\n",
       "      <td>294525.000000</td>\n",
       "    </tr>\n",
       "    <tr>\n",
       "      <th>mean</th>\n",
       "      <td>4.218140e+06</td>\n",
       "      <td>6.495625</td>\n",
       "      <td>192.824036</td>\n",
       "    </tr>\n",
       "    <tr>\n",
       "      <th>std</th>\n",
       "      <td>5.866759e+05</td>\n",
       "      <td>3.313608</td>\n",
       "      <td>354.384517</td>\n",
       "    </tr>\n",
       "    <tr>\n",
       "      <th>min</th>\n",
       "      <td>1.299640e+05</td>\n",
       "      <td>1.000000</td>\n",
       "      <td>0.581000</td>\n",
       "    </tr>\n",
       "    <tr>\n",
       "      <th>25%</th>\n",
       "      <td>4.316447e+06</td>\n",
       "      <td>4.000000</td>\n",
       "      <td>48.953000</td>\n",
       "    </tr>\n",
       "    <tr>\n",
       "      <th>50%</th>\n",
       "      <td>4.319843e+06</td>\n",
       "      <td>6.000000</td>\n",
       "      <td>97.266000</td>\n",
       "    </tr>\n",
       "    <tr>\n",
       "      <th>75%</th>\n",
       "      <td>4.369418e+06</td>\n",
       "      <td>9.000000</td>\n",
       "      <td>198.498000</td>\n",
       "    </tr>\n",
       "    <tr>\n",
       "      <th>max</th>\n",
       "      <td>4.422763e+06</td>\n",
       "      <td>100.000000</td>\n",
       "      <td>12962.089000</td>\n",
       "    </tr>\n",
       "  </tbody>\n",
       "</table>\n",
       "</div>"
      ],
      "text/plain": [
       "            user_id  assessment_number  timedelta_second\n",
       "count  2.945250e+05      294525.000000     294525.000000\n",
       "mean   4.218140e+06           6.495625        192.824036\n",
       "std    5.866759e+05           3.313608        354.384517\n",
       "min    1.299640e+05           1.000000          0.581000\n",
       "25%    4.316447e+06           4.000000         48.953000\n",
       "50%    4.319843e+06           6.000000         97.266000\n",
       "75%    4.369418e+06           9.000000        198.498000\n",
       "max    4.422763e+06         100.000000      12962.089000"
      ]
     },
     "execution_count": 25,
     "metadata": {},
     "output_type": "execute_result"
    }
   ],
   "source": [
    "submission_df.describe()"
   ]
  },
  {
   "cell_type": "markdown",
   "id": "b3d3c2bd",
   "metadata": {},
   "source": [
    "# Loading Chegg Chatgpt Data and Compute Marker Ratios"
   ]
  },
  {
   "cell_type": "code",
   "execution_count": 26,
   "id": "0d5c519d",
   "metadata": {},
   "outputs": [],
   "source": [
    "# Top 5 in each marker, there are overlaps\n",
    "base_qids = ['fixBankAccountClass', 'fixRemovalFromList', 'progAppendRangeToList', 'progExtractHtmlTitle',\n",
    "             'progExtractListFromHtml', 'progMaxFromCSV', 'progMaxFromCSV_R', 'progMaxFromCSV_V', \n",
    "             'progMiddleTenChars_PF', 'progNestedDictEmployee', 'progReturnCSVfromList', 'progReturnRandomNumber',\n",
    "             'progReturnSecondWordHard', 'progSubstitutionCipher', 'progSumColumns']\n",
    "# Radom from the rest\n",
    "extra_qids = ['progAverageNumbersFromFile_AF', 'progFindLargestInteger', 'progFindShortestStringWithChar_C',\n",
    "              'progIncreaseTermsByX_P', 'progLargestNumValueInDict_D', 'progThreeLargestNumbersHard',\n",
    "              'progThreeLargestNumbers_V', 'progWhichVowelsInSentence_P']"
   ]
  },
  {
   "cell_type": "code",
   "execution_count": 27,
   "id": "f0ef3ea9",
   "metadata": {},
   "outputs": [],
   "source": [
    "chegg_df = pd.read_csv('chegg.csv')\n",
    "chatgpt_df = pd.read_csv('chatGPT.csv')\n",
    "cheat_df = pd.concat([chegg_df, chatgpt_df.drop(columns=['qid'])], axis=1)\n",
    "\n",
    "chegg_cols = ['chegg', 'chegg 2', 'chegg 3', 'chegg 4', 'coursehero', 'coursehero 2', 'brainly', \n",
    "              'numerade', 'numerade 2', 'quizlet', 'quizlet 2']\n",
    "chatgpt_cols = [str(i) for i in range(10)]"
   ]
  },
  {
   "cell_type": "code",
   "execution_count": 28,
   "id": "d91ab026",
   "metadata": {},
   "outputs": [],
   "source": [
    "# We weigh on each question, rather than each chegg solution found\n",
    "question_names = []\n",
    "markers = []\n",
    "sources = []\n",
    "marker_ratios = []\n",
    "\n",
    "for _, row in cheat_df.iterrows():\n",
    "    for marker, func in zip(['syntax', 'comment', 'print', 'code'], \n",
    "                            [has_advanced_syntax, has_extra_comment, has_extra_print, has_extra_code]):\n",
    "        chegg_count = 0\n",
    "        chegg_total = 0\n",
    "        for col in chegg_cols:\n",
    "            if type(row[col]) is str:\n",
    "                chegg_count += (func(row['qid'], row[col].encode()) > 0)\n",
    "                chegg_total += 1\n",
    "        chatgpt_count = 0\n",
    "        chatgpt_total = 0\n",
    "        for col in chatgpt_cols:\n",
    "            if type(row[col]) is str:\n",
    "                chatgpt_count += (func(row['qid'], row[col].encode()) > 0)\n",
    "                chatgpt_total += 1\n",
    "        \n",
    "        question_names.append(row['qid'])\n",
    "        markers.append(marker)\n",
    "        sources.append('Chegg etc.')\n",
    "        marker_ratios.append(chegg_count/chegg_total)\n",
    "        \n",
    "        question_names.append(row['qid'])\n",
    "        markers.append(marker)\n",
    "        sources.append('ChatGPT')\n",
    "        marker_ratios.append(chatgpt_count/chatgpt_total)\n",
    "\n",
    "for _, row in cheat_df.iterrows():\n",
    "    chegg_count = 0\n",
    "    chegg_total = 0\n",
    "    for col in chegg_cols:\n",
    "        if type(row[col]) is str:\n",
    "            any_marker = False\n",
    "            for func in [has_advanced_syntax, has_extra_comment, has_extra_print, has_extra_code]:\n",
    "                if func(row['qid'], row[col].encode()) > 0:\n",
    "                    any_marker = True\n",
    "                    break\n",
    "            chegg_count += any_marker\n",
    "            chegg_total += 1\n",
    "    chatgpt_count = 0\n",
    "    chatgpt_total = 0\n",
    "    for col in chatgpt_cols:\n",
    "        if type(row[col]) is str:\n",
    "            any_marker = False\n",
    "            for func in [has_advanced_syntax, has_extra_comment, has_extra_print, has_extra_code]:\n",
    "                if func(row['qid'], row[col].encode()) > 0:\n",
    "                    any_marker = True\n",
    "                    break\n",
    "            chatgpt_count += any_marker\n",
    "            chatgpt_total += 1\n",
    "\n",
    "    question_names.append(row['qid'])\n",
    "    markers.append('any')\n",
    "    sources.append('Chegg etc.')\n",
    "    marker_ratios.append(chegg_count/chegg_total)\n",
    "\n",
    "    question_names.append(row['qid'])\n",
    "    markers.append('any')\n",
    "    sources.append('ChatGPT')\n",
    "    marker_ratios.append(chatgpt_count/chatgpt_total)\n",
    "\n",
    "plagirism_df = pd.DataFrame.from_records({\n",
    "    'question_name' : question_names,\n",
    "    'marker' : markers,\n",
    "    'source' : sources,\n",
    "    'marker_ratio' : np.array(marker_ratios)\n",
    "})\n",
    "\n",
    "plagirism_df['marker_ratio'] = 100 * plagirism_df['marker_ratio']"
   ]
  },
  {
   "cell_type": "markdown",
   "id": "bc591757",
   "metadata": {},
   "source": [
    "# Applying Markers to Each Assessment Type"
   ]
  },
  {
   "cell_type": "code",
   "execution_count": 29,
   "id": "feab0b09",
   "metadata": {},
   "outputs": [],
   "source": [
    "# Only taking first corret submission for analysis\n",
    "marker_df = (submission_df[((submission_df.assessment_set_name.isin(['Exam', 'Quiz']) \n",
    "                             & submission_df.assessment_number.isin([1, 2, 3, 4])))\n",
    "                           | (submission_df.assessment_set_name == 'Homework')]\n",
    "             .drop_duplicates(subset=['semester', 'user_id', \n",
    "                                      'assessment_set_name', 'assessment_number', \n",
    "                                      'question_name'])\n",
    "             .copy())\n",
    "marker_df['count'] = 1\n",
    "marker_df = (marker_df\n",
    "             .groupby(['semester', 'user_id', 'assessment_set_name', 'assessment_number']).agg('sum')\n",
    "             .reset_index())\n",
    "\n",
    "marker_df = marker_df[['semester', 'user_id', \n",
    "                       'assessment_set_name', 'assessment_number', \n",
    "                       'syntax', 'comment', 'print', 'code', 'any', 'count']].copy()\n",
    "\n",
    "# Compute maximum number of programming questions in each assessment, assuming some student solved all of them\n",
    "# After manual verification this assumption is actually True, including exams\n",
    "for (semester, assessment_set_name, assessment_number), sub_df in marker_df.groupby(['semester', \n",
    "                                                                                     'assessment_set_name', \n",
    "                                                                                     'assessment_number']):\n",
    "    marker_df.loc[(marker_df.semester == semester)\n",
    "                  & (marker_df.assessment_set_name == assessment_set_name) \n",
    "                  & (marker_df.assessment_number == assessment_number), 'total'] = sub_df['count'].max()"
   ]
  },
  {
   "cell_type": "code",
   "execution_count": 30,
   "id": "db6fa8fc",
   "metadata": {},
   "outputs": [
    {
     "data": {
      "text/plain": [
       "semester                object\n",
       "user_id                  int64\n",
       "assessment_set_name     object\n",
       "assessment_number        int64\n",
       "syntax                   int64\n",
       "comment                  int64\n",
       "print                    int64\n",
       "code                     int64\n",
       "any                      int64\n",
       "count                    int64\n",
       "total                  float64\n",
       "dtype: object"
      ]
     },
     "execution_count": 30,
     "metadata": {},
     "output_type": "execute_result"
    }
   ],
   "source": [
    "# objects are strings\n",
    "marker_df.dtypes"
   ]
  },
  {
   "cell_type": "code",
   "execution_count": 31,
   "id": "e38c0446",
   "metadata": {},
   "outputs": [
    {
     "data": {
      "text/html": [
       "<div>\n",
       "<style scoped>\n",
       "    .dataframe tbody tr th:only-of-type {\n",
       "        vertical-align: middle;\n",
       "    }\n",
       "\n",
       "    .dataframe tbody tr th {\n",
       "        vertical-align: top;\n",
       "    }\n",
       "\n",
       "    .dataframe thead th {\n",
       "        text-align: right;\n",
       "    }\n",
       "</style>\n",
       "<table border=\"1\" class=\"dataframe\">\n",
       "  <thead>\n",
       "    <tr style=\"text-align: right;\">\n",
       "      <th></th>\n",
       "      <th>user_id</th>\n",
       "      <th>assessment_number</th>\n",
       "      <th>syntax</th>\n",
       "      <th>comment</th>\n",
       "      <th>print</th>\n",
       "      <th>code</th>\n",
       "      <th>any</th>\n",
       "      <th>count</th>\n",
       "      <th>total</th>\n",
       "    </tr>\n",
       "  </thead>\n",
       "  <tbody>\n",
       "    <tr>\n",
       "      <th>count</th>\n",
       "      <td>1.886800e+04</td>\n",
       "      <td>18868.000000</td>\n",
       "      <td>18868.000000</td>\n",
       "      <td>18868.000000</td>\n",
       "      <td>18868.000000</td>\n",
       "      <td>18868.000000</td>\n",
       "      <td>18868.000000</td>\n",
       "      <td>18868.000000</td>\n",
       "      <td>18868.000000</td>\n",
       "    </tr>\n",
       "    <tr>\n",
       "      <th>mean</th>\n",
       "      <td>4.185702e+06</td>\n",
       "      <td>5.509964</td>\n",
       "      <td>0.153805</td>\n",
       "      <td>0.268391</td>\n",
       "      <td>0.173044</td>\n",
       "      <td>0.162444</td>\n",
       "      <td>0.543725</td>\n",
       "      <td>6.768338</td>\n",
       "      <td>9.040545</td>\n",
       "    </tr>\n",
       "    <tr>\n",
       "      <th>std</th>\n",
       "      <td>6.691445e+05</td>\n",
       "      <td>3.762896</td>\n",
       "      <td>0.471460</td>\n",
       "      <td>0.979703</td>\n",
       "      <td>0.593869</td>\n",
       "      <td>0.598186</td>\n",
       "      <td>1.255104</td>\n",
       "      <td>3.972626</td>\n",
       "      <td>5.164942</td>\n",
       "    </tr>\n",
       "    <tr>\n",
       "      <th>min</th>\n",
       "      <td>1.299640e+05</td>\n",
       "      <td>1.000000</td>\n",
       "      <td>0.000000</td>\n",
       "      <td>0.000000</td>\n",
       "      <td>0.000000</td>\n",
       "      <td>0.000000</td>\n",
       "      <td>0.000000</td>\n",
       "      <td>1.000000</td>\n",
       "      <td>2.000000</td>\n",
       "    </tr>\n",
       "    <tr>\n",
       "      <th>25%</th>\n",
       "      <td>4.316441e+06</td>\n",
       "      <td>3.000000</td>\n",
       "      <td>0.000000</td>\n",
       "      <td>0.000000</td>\n",
       "      <td>0.000000</td>\n",
       "      <td>0.000000</td>\n",
       "      <td>0.000000</td>\n",
       "      <td>3.000000</td>\n",
       "      <td>6.000000</td>\n",
       "    </tr>\n",
       "    <tr>\n",
       "      <th>50%</th>\n",
       "      <td>4.319847e+06</td>\n",
       "      <td>4.000000</td>\n",
       "      <td>0.000000</td>\n",
       "      <td>0.000000</td>\n",
       "      <td>0.000000</td>\n",
       "      <td>0.000000</td>\n",
       "      <td>0.000000</td>\n",
       "      <td>6.000000</td>\n",
       "      <td>8.000000</td>\n",
       "    </tr>\n",
       "    <tr>\n",
       "      <th>75%</th>\n",
       "      <td>4.369417e+06</td>\n",
       "      <td>9.000000</td>\n",
       "      <td>0.000000</td>\n",
       "      <td>0.000000</td>\n",
       "      <td>0.000000</td>\n",
       "      <td>0.000000</td>\n",
       "      <td>1.000000</td>\n",
       "      <td>9.000000</td>\n",
       "      <td>12.000000</td>\n",
       "    </tr>\n",
       "    <tr>\n",
       "      <th>max</th>\n",
       "      <td>4.422763e+06</td>\n",
       "      <td>13.000000</td>\n",
       "      <td>4.000000</td>\n",
       "      <td>13.000000</td>\n",
       "      <td>8.000000</td>\n",
       "      <td>8.000000</td>\n",
       "      <td>13.000000</td>\n",
       "      <td>22.000000</td>\n",
       "      <td>22.000000</td>\n",
       "    </tr>\n",
       "  </tbody>\n",
       "</table>\n",
       "</div>"
      ],
      "text/plain": [
       "            user_id  assessment_number        syntax       comment  \\\n",
       "count  1.886800e+04       18868.000000  18868.000000  18868.000000   \n",
       "mean   4.185702e+06           5.509964      0.153805      0.268391   \n",
       "std    6.691445e+05           3.762896      0.471460      0.979703   \n",
       "min    1.299640e+05           1.000000      0.000000      0.000000   \n",
       "25%    4.316441e+06           3.000000      0.000000      0.000000   \n",
       "50%    4.319847e+06           4.000000      0.000000      0.000000   \n",
       "75%    4.369417e+06           9.000000      0.000000      0.000000   \n",
       "max    4.422763e+06          13.000000      4.000000     13.000000   \n",
       "\n",
       "              print          code           any         count         total  \n",
       "count  18868.000000  18868.000000  18868.000000  18868.000000  18868.000000  \n",
       "mean       0.173044      0.162444      0.543725      6.768338      9.040545  \n",
       "std        0.593869      0.598186      1.255104      3.972626      5.164942  \n",
       "min        0.000000      0.000000      0.000000      1.000000      2.000000  \n",
       "25%        0.000000      0.000000      0.000000      3.000000      6.000000  \n",
       "50%        0.000000      0.000000      0.000000      6.000000      8.000000  \n",
       "75%        0.000000      0.000000      1.000000      9.000000     12.000000  \n",
       "max        8.000000      8.000000     13.000000     22.000000     22.000000  "
      ]
     },
     "execution_count": 31,
     "metadata": {},
     "output_type": "execute_result"
    }
   ],
   "source": [
    "marker_df.describe()"
   ]
  },
  {
   "cell_type": "markdown",
   "id": "eaf60304",
   "metadata": {},
   "source": [
    "# Computing Marker Ratios (Plagiarism Ratios) for Each Assessment Type"
   ]
  },
  {
   "cell_type": "code",
   "execution_count": 32,
   "id": "8864be7f",
   "metadata": {},
   "outputs": [],
   "source": [
    "marker_ratio_df = (marker_df\n",
    "                   .groupby(['semester', 'user_id', 'assessment_set_name'])\n",
    "                   .agg('sum')\n",
    "                   .reset_index())\n",
    "\n",
    "for marker in ['syntax', 'comment', 'print', 'code', 'any', 'total']:\n",
    "    marker_ratio_df[marker] = marker_ratio_df[marker].astype(float)\n",
    "\n",
    "for semester in ['fa22', 'sp23']:\n",
    "    for assessment in ['Homework', 'Quiz', 'Exam']:\n",
    "        for marker in ['syntax', 'comment', 'print', 'code', 'any']:\n",
    "            marker_ratio_df.loc[(marker_ratio_df.semester == semester)\n",
    "                                & (marker_ratio_df.assessment_set_name == assessment), marker] = (\n",
    "                100 * marker_ratio_df.loc[(marker_ratio_df.semester == semester)\n",
    "                                          & (marker_ratio_df.assessment_set_name == assessment), f'{marker}'] \n",
    "                / marker_ratio_df.loc[(marker_ratio_df.semester == semester)\n",
    "                                      & (marker_ratio_df.assessment_set_name == assessment), 'total'].max()\n",
    "            )\n",
    "\n",
    "marker_ratio_df = (marker_ratio_df[['semester', 'user_id', 'assessment_set_name', \n",
    "                                    'syntax', 'comment', 'print', 'code', 'any']])\n",
    "\n",
    "marker_ratio_df = marker_ratio_df.melt(id_vars=['semester', 'user_id', 'assessment_set_name'], \n",
    "                                       value_vars=['syntax', 'comment', 'print', 'code', 'any'], \n",
    "                                       var_name='marker', \n",
    "                                       value_name='ratio')"
   ]
  },
  {
   "cell_type": "code",
   "execution_count": 33,
   "id": "2ed08f29",
   "metadata": {},
   "outputs": [
    {
     "data": {
      "text/plain": [
       "semester                object\n",
       "user_id                  int64\n",
       "assessment_set_name     object\n",
       "marker                  object\n",
       "ratio                  float64\n",
       "dtype: object"
      ]
     },
     "execution_count": 33,
     "metadata": {},
     "output_type": "execute_result"
    }
   ],
   "source": [
    "# objects are strings\n",
    "marker_ratio_df.dtypes"
   ]
  },
  {
   "cell_type": "code",
   "execution_count": 34,
   "id": "0d6ab499",
   "metadata": {},
   "outputs": [
    {
     "data": {
      "text/html": [
       "<div>\n",
       "<style scoped>\n",
       "    .dataframe tbody tr th:only-of-type {\n",
       "        vertical-align: middle;\n",
       "    }\n",
       "\n",
       "    .dataframe tbody tr th {\n",
       "        vertical-align: top;\n",
       "    }\n",
       "\n",
       "    .dataframe thead th {\n",
       "        text-align: right;\n",
       "    }\n",
       "</style>\n",
       "<table border=\"1\" class=\"dataframe\">\n",
       "  <thead>\n",
       "    <tr style=\"text-align: right;\">\n",
       "      <th></th>\n",
       "      <th>user_id</th>\n",
       "      <th>ratio</th>\n",
       "    </tr>\n",
       "  </thead>\n",
       "  <tbody>\n",
       "    <tr>\n",
       "      <th>count</th>\n",
       "      <td>1.461000e+04</td>\n",
       "      <td>14610.000000</td>\n",
       "    </tr>\n",
       "    <tr>\n",
       "      <th>mean</th>\n",
       "      <td>4.183988e+06</td>\n",
       "      <td>1.917108</td>\n",
       "    </tr>\n",
       "    <tr>\n",
       "      <th>std</th>\n",
       "      <td>6.738153e+05</td>\n",
       "      <td>4.109578</td>\n",
       "    </tr>\n",
       "    <tr>\n",
       "      <th>min</th>\n",
       "      <td>1.299640e+05</td>\n",
       "      <td>0.000000</td>\n",
       "    </tr>\n",
       "    <tr>\n",
       "      <th>25%</th>\n",
       "      <td>4.316442e+06</td>\n",
       "      <td>0.000000</td>\n",
       "    </tr>\n",
       "    <tr>\n",
       "      <th>50%</th>\n",
       "      <td>4.319850e+06</td>\n",
       "      <td>0.000000</td>\n",
       "    </tr>\n",
       "    <tr>\n",
       "      <th>75%</th>\n",
       "      <td>4.369417e+06</td>\n",
       "      <td>1.526718</td>\n",
       "    </tr>\n",
       "    <tr>\n",
       "      <th>max</th>\n",
       "      <td>4.422763e+06</td>\n",
       "      <td>42.857143</td>\n",
       "    </tr>\n",
       "  </tbody>\n",
       "</table>\n",
       "</div>"
      ],
      "text/plain": [
       "            user_id         ratio\n",
       "count  1.461000e+04  14610.000000\n",
       "mean   4.183988e+06      1.917108\n",
       "std    6.738153e+05      4.109578\n",
       "min    1.299640e+05      0.000000\n",
       "25%    4.316442e+06      0.000000\n",
       "50%    4.319850e+06      0.000000\n",
       "75%    4.369417e+06      1.526718\n",
       "max    4.422763e+06     42.857143"
      ]
     },
     "execution_count": 34,
     "metadata": {},
     "output_type": "execute_result"
    }
   ],
   "source": [
    "marker_ratio_df.describe()"
   ]
  },
  {
   "cell_type": "code",
   "execution_count": 35,
   "id": "81174bda",
   "metadata": {},
   "outputs": [],
   "source": [
    "marker_ratio_pivot_df = (marker_ratio_df\n",
    "                         .pivot(index=['semester', 'user_id'], \n",
    "                                columns=['marker', 'assessment_set_name'], \n",
    "                                values='ratio')\n",
    "                         .reset_index())\n",
    "marker_ratio_pivot_df.columns = ['semester', 'user_id', \n",
    "                                 'syntax_exam', 'syntax_homework', 'syntax_quiz', \n",
    "                                 'comment_exam', 'comment_homework', 'comment_quiz', \n",
    "                                 'print_exam', 'print_homework', 'print_quiz', \n",
    "                                 'code_exam', 'code_homework', 'code_quiz', \n",
    "                                 'any_exam', 'any_homework', 'any_quiz']"
   ]
  },
  {
   "cell_type": "code",
   "execution_count": 36,
   "id": "515bd987",
   "metadata": {},
   "outputs": [
    {
     "data": {
      "text/plain": [
       "semester             object\n",
       "user_id               int64\n",
       "syntax_exam         float64\n",
       "syntax_homework     float64\n",
       "syntax_quiz         float64\n",
       "comment_exam        float64\n",
       "comment_homework    float64\n",
       "comment_quiz        float64\n",
       "print_exam          float64\n",
       "print_homework      float64\n",
       "print_quiz          float64\n",
       "code_exam           float64\n",
       "code_homework       float64\n",
       "code_quiz           float64\n",
       "any_exam            float64\n",
       "any_homework        float64\n",
       "any_quiz            float64\n",
       "dtype: object"
      ]
     },
     "execution_count": 36,
     "metadata": {},
     "output_type": "execute_result"
    }
   ],
   "source": [
    "# objects are strings\n",
    "marker_ratio_pivot_df.dtypes"
   ]
  },
  {
   "cell_type": "code",
   "execution_count": 37,
   "id": "743cc285",
   "metadata": {},
   "outputs": [
    {
     "data": {
      "text/html": [
       "<div>\n",
       "<style scoped>\n",
       "    .dataframe tbody tr th:only-of-type {\n",
       "        vertical-align: middle;\n",
       "    }\n",
       "\n",
       "    .dataframe tbody tr th {\n",
       "        vertical-align: top;\n",
       "    }\n",
       "\n",
       "    .dataframe thead th {\n",
       "        text-align: right;\n",
       "    }\n",
       "</style>\n",
       "<table border=\"1\" class=\"dataframe\">\n",
       "  <thead>\n",
       "    <tr style=\"text-align: right;\">\n",
       "      <th></th>\n",
       "      <th>user_id</th>\n",
       "      <th>syntax_exam</th>\n",
       "      <th>syntax_homework</th>\n",
       "      <th>syntax_quiz</th>\n",
       "      <th>comment_exam</th>\n",
       "      <th>comment_homework</th>\n",
       "      <th>comment_quiz</th>\n",
       "      <th>print_exam</th>\n",
       "      <th>print_homework</th>\n",
       "      <th>print_quiz</th>\n",
       "      <th>code_exam</th>\n",
       "      <th>code_homework</th>\n",
       "      <th>code_quiz</th>\n",
       "      <th>any_exam</th>\n",
       "      <th>any_homework</th>\n",
       "      <th>any_quiz</th>\n",
       "    </tr>\n",
       "  </thead>\n",
       "  <tbody>\n",
       "    <tr>\n",
       "      <th>count</th>\n",
       "      <td>9.830000e+02</td>\n",
       "      <td>965.000000</td>\n",
       "      <td>982.000000</td>\n",
       "      <td>975.000000</td>\n",
       "      <td>965.000000</td>\n",
       "      <td>982.000000</td>\n",
       "      <td>975.000000</td>\n",
       "      <td>965.000000</td>\n",
       "      <td>982.000000</td>\n",
       "      <td>975.000000</td>\n",
       "      <td>965.000000</td>\n",
       "      <td>982.000000</td>\n",
       "      <td>975.000000</td>\n",
       "      <td>965.000000</td>\n",
       "      <td>982.000000</td>\n",
       "      <td>975.000000</td>\n",
       "    </tr>\n",
       "    <tr>\n",
       "      <th>mean</th>\n",
       "      <td>4.184074e+06</td>\n",
       "      <td>0.244010</td>\n",
       "      <td>1.885253</td>\n",
       "      <td>2.002442</td>\n",
       "      <td>0.340699</td>\n",
       "      <td>3.631425</td>\n",
       "      <td>1.406593</td>\n",
       "      <td>0.101265</td>\n",
       "      <td>2.325134</td>\n",
       "      <td>1.133089</td>\n",
       "      <td>0.105251</td>\n",
       "      <td>2.160535</td>\n",
       "      <td>1.186813</td>\n",
       "      <td>0.712694</td>\n",
       "      <td>7.130377</td>\n",
       "      <td>4.253968</td>\n",
       "    </tr>\n",
       "    <tr>\n",
       "      <th>std</th>\n",
       "      <td>6.746661e+05</td>\n",
       "      <td>1.012106</td>\n",
       "      <td>2.284852</td>\n",
       "      <td>3.723701</td>\n",
       "      <td>1.265126</td>\n",
       "      <td>5.235353</td>\n",
       "      <td>4.102505</td>\n",
       "      <td>0.908963</td>\n",
       "      <td>3.252924</td>\n",
       "      <td>3.232404</td>\n",
       "      <td>1.005729</td>\n",
       "      <td>3.410058</td>\n",
       "      <td>3.365228</td>\n",
       "      <td>1.987424</td>\n",
       "      <td>6.702443</td>\n",
       "      <td>6.431815</td>\n",
       "    </tr>\n",
       "    <tr>\n",
       "      <th>min</th>\n",
       "      <td>1.299640e+05</td>\n",
       "      <td>0.000000</td>\n",
       "      <td>0.000000</td>\n",
       "      <td>0.000000</td>\n",
       "      <td>0.000000</td>\n",
       "      <td>0.000000</td>\n",
       "      <td>0.000000</td>\n",
       "      <td>0.000000</td>\n",
       "      <td>0.000000</td>\n",
       "      <td>0.000000</td>\n",
       "      <td>0.000000</td>\n",
       "      <td>0.000000</td>\n",
       "      <td>0.000000</td>\n",
       "      <td>0.000000</td>\n",
       "      <td>0.000000</td>\n",
       "      <td>0.000000</td>\n",
       "    </tr>\n",
       "    <tr>\n",
       "      <th>25%</th>\n",
       "      <td>4.316443e+06</td>\n",
       "      <td>0.000000</td>\n",
       "      <td>0.000000</td>\n",
       "      <td>0.000000</td>\n",
       "      <td>0.000000</td>\n",
       "      <td>0.000000</td>\n",
       "      <td>0.000000</td>\n",
       "      <td>0.000000</td>\n",
       "      <td>0.000000</td>\n",
       "      <td>0.000000</td>\n",
       "      <td>0.000000</td>\n",
       "      <td>0.000000</td>\n",
       "      <td>0.000000</td>\n",
       "      <td>0.000000</td>\n",
       "      <td>1.526718</td>\n",
       "      <td>0.000000</td>\n",
       "    </tr>\n",
       "    <tr>\n",
       "      <th>50%</th>\n",
       "      <td>4.319853e+06</td>\n",
       "      <td>0.000000</td>\n",
       "      <td>0.763359</td>\n",
       "      <td>0.000000</td>\n",
       "      <td>0.000000</td>\n",
       "      <td>1.515152</td>\n",
       "      <td>0.000000</td>\n",
       "      <td>0.000000</td>\n",
       "      <td>0.763359</td>\n",
       "      <td>0.000000</td>\n",
       "      <td>0.000000</td>\n",
       "      <td>0.763359</td>\n",
       "      <td>0.000000</td>\n",
       "      <td>0.000000</td>\n",
       "      <td>5.303030</td>\n",
       "      <td>0.000000</td>\n",
       "    </tr>\n",
       "    <tr>\n",
       "      <th>75%</th>\n",
       "      <td>4.369414e+06</td>\n",
       "      <td>0.000000</td>\n",
       "      <td>2.290076</td>\n",
       "      <td>4.761905</td>\n",
       "      <td>0.000000</td>\n",
       "      <td>5.303030</td>\n",
       "      <td>0.000000</td>\n",
       "      <td>0.000000</td>\n",
       "      <td>3.030303</td>\n",
       "      <td>0.000000</td>\n",
       "      <td>0.000000</td>\n",
       "      <td>2.290076</td>\n",
       "      <td>0.000000</td>\n",
       "      <td>0.000000</td>\n",
       "      <td>10.606061</td>\n",
       "      <td>4.761905</td>\n",
       "    </tr>\n",
       "    <tr>\n",
       "      <th>max</th>\n",
       "      <td>4.422763e+06</td>\n",
       "      <td>11.111111</td>\n",
       "      <td>9.923664</td>\n",
       "      <td>19.047619</td>\n",
       "      <td>11.538462</td>\n",
       "      <td>35.114504</td>\n",
       "      <td>33.333333</td>\n",
       "      <td>22.222222</td>\n",
       "      <td>21.969697</td>\n",
       "      <td>33.333333</td>\n",
       "      <td>25.925926</td>\n",
       "      <td>22.727273</td>\n",
       "      <td>33.333333</td>\n",
       "      <td>29.629630</td>\n",
       "      <td>41.221374</td>\n",
       "      <td>42.857143</td>\n",
       "    </tr>\n",
       "  </tbody>\n",
       "</table>\n",
       "</div>"
      ],
      "text/plain": [
       "            user_id  syntax_exam  syntax_homework  syntax_quiz  comment_exam  \\\n",
       "count  9.830000e+02   965.000000       982.000000   975.000000    965.000000   \n",
       "mean   4.184074e+06     0.244010         1.885253     2.002442      0.340699   \n",
       "std    6.746661e+05     1.012106         2.284852     3.723701      1.265126   \n",
       "min    1.299640e+05     0.000000         0.000000     0.000000      0.000000   \n",
       "25%    4.316443e+06     0.000000         0.000000     0.000000      0.000000   \n",
       "50%    4.319853e+06     0.000000         0.763359     0.000000      0.000000   \n",
       "75%    4.369414e+06     0.000000         2.290076     4.761905      0.000000   \n",
       "max    4.422763e+06    11.111111         9.923664    19.047619     11.538462   \n",
       "\n",
       "       comment_homework  comment_quiz  print_exam  print_homework  print_quiz  \\\n",
       "count        982.000000    975.000000  965.000000      982.000000  975.000000   \n",
       "mean           3.631425      1.406593    0.101265        2.325134    1.133089   \n",
       "std            5.235353      4.102505    0.908963        3.252924    3.232404   \n",
       "min            0.000000      0.000000    0.000000        0.000000    0.000000   \n",
       "25%            0.000000      0.000000    0.000000        0.000000    0.000000   \n",
       "50%            1.515152      0.000000    0.000000        0.763359    0.000000   \n",
       "75%            5.303030      0.000000    0.000000        3.030303    0.000000   \n",
       "max           35.114504     33.333333   22.222222       21.969697   33.333333   \n",
       "\n",
       "        code_exam  code_homework   code_quiz    any_exam  any_homework  \\\n",
       "count  965.000000     982.000000  975.000000  965.000000    982.000000   \n",
       "mean     0.105251       2.160535    1.186813    0.712694      7.130377   \n",
       "std      1.005729       3.410058    3.365228    1.987424      6.702443   \n",
       "min      0.000000       0.000000    0.000000    0.000000      0.000000   \n",
       "25%      0.000000       0.000000    0.000000    0.000000      1.526718   \n",
       "50%      0.000000       0.763359    0.000000    0.000000      5.303030   \n",
       "75%      0.000000       2.290076    0.000000    0.000000     10.606061   \n",
       "max     25.925926      22.727273   33.333333   29.629630     41.221374   \n",
       "\n",
       "         any_quiz  \n",
       "count  975.000000  \n",
       "mean     4.253968  \n",
       "std      6.431815  \n",
       "min      0.000000  \n",
       "25%      0.000000  \n",
       "50%      0.000000  \n",
       "75%      4.761905  \n",
       "max     42.857143  "
      ]
     },
     "execution_count": 37,
     "metadata": {},
     "output_type": "execute_result"
    }
   ],
   "source": [
    "marker_ratio_pivot_df.describe()"
   ]
  },
  {
   "cell_type": "markdown",
   "id": "c7fe6389",
   "metadata": {},
   "source": [
    "# Mean Quiz (Unproctored) Advantage"
   ]
  },
  {
   "cell_type": "code",
   "execution_count": 38,
   "id": "7e94e17d",
   "metadata": {},
   "outputs": [],
   "source": [
    "quiz_advantage_df = score_predicted_pivot_df.copy()\n",
    "for i in range(1, 5):\n",
    "    quiz_advantage_df[f'{i}'] = quiz_advantage_df[f'quiz{i}'] - quiz_advantage_df[f'exam{i}']\n",
    "\n",
    "quiz_advantage_df = quiz_advantage_df.melt(id_vars=['semester', 'user_id'], \n",
    "                                           value_vars=['1', '2', '3', '4'], \n",
    "                                           var_name='quiz', \n",
    "                                           value_name='advantage')"
   ]
  },
  {
   "cell_type": "code",
   "execution_count": 39,
   "id": "287e4e89",
   "metadata": {},
   "outputs": [
    {
     "data": {
      "image/png": "[encoded data removed]",
      "text/plain": [
       "<Figure size 240.242x155.109 with 1 Axes>"
      ]
     },
     "metadata": {
      "needs_background": "light"
     },
     "output_type": "display_data"
    }
   ],
   "source": [
    "fig, axes = make_fig(figure_width=3.3367, \n",
    "                     axis_ratio=(1 + np.sqrt(5)) / 2, \n",
    "                     top_margin=0.05, \n",
    "                     bottom_margin=0.45, \n",
    "                     left_margin=0.65, \n",
    "                     right_margin=0.01)\n",
    "\n",
    "sns.barplot(data=quiz_advantage_df, x='quiz', y='advantage', hue='semester')\n",
    "\n",
    "plt.legend(title='Semester')\n",
    "\n",
    "plt.ylim(0, 20)\n",
    "\n",
    "plt.xlabel('Exam')\n",
    "plt.ylabel('Mean predicted\\nunproctored advantage / \\%')\n",
    "\n",
    "plt.savefig('mean_quiz_advantage.pdf')"
   ]
  },
  {
   "cell_type": "code",
   "execution_count": 40,
   "id": "7ed0f226",
   "metadata": {},
   "outputs": [
    {
     "name": "stdout",
     "output_type": "stream",
     "text": [
      "TtestResult(statistic=-1.835032921832553, pvalue=0.06684373528760576, df=865.7789739074058)\n",
      "TtestResult(statistic=-4.884756698437788, pvalue=1.2570051291307826e-06, df=779.5331438250942)\n",
      "TtestResult(statistic=-6.566511393186462, pvalue=8.975852245552862e-11, df=847.0345493205599)\n",
      "TtestResult(statistic=-5.42583254403189, pvalue=7.795479302430134e-08, df=748.4969016350077)\n"
     ]
    }
   ],
   "source": [
    "# t-test for whether there is significant difference in advantage\n",
    "for i in range(1, 5):\n",
    "    print(ttest_ind(quiz_advantage_df[(quiz_advantage_df.semester == 'fa22') \n",
    "                                      & (quiz_advantage_df.quiz == str(i))].dropna()['advantage'],\n",
    "                    quiz_advantage_df[(quiz_advantage_df.semester == 'sp23') \n",
    "                                      & (quiz_advantage_df.quiz == str(i))].dropna()['advantage'], equal_var=False))"
   ]
  },
  {
   "cell_type": "markdown",
   "id": "57a950f3",
   "metadata": {},
   "source": [
    "# eCDF of Marker Ratios vs Percentage Students"
   ]
  },
  {
   "cell_type": "code",
   "execution_count": 41,
   "id": "c54ed5be",
   "metadata": {},
   "outputs": [
    {
     "data": {
      "image/png": "[encoded data removed]",
      "text/plain": [
       "<Figure size 240.242x137.401 with 1 Axes>"
      ]
     },
     "metadata": {
      "needs_background": "light"
     },
     "output_type": "display_data"
    }
   ],
   "source": [
    "fig, axes = make_fig(figure_width=3.3367, \n",
    "                     axis_ratio=2, \n",
    "                     top_margin=0.05, \n",
    "                     bottom_margin=0.48, \n",
    "                     left_margin=0.57, \n",
    "                     right_margin=0.01)\n",
    "\n",
    "ecdf_df = marker_ratio_pivot_df.copy()\n",
    "ecdf_df['Semester'] = ecdf_df['semester']\n",
    "\n",
    "sns.ecdfplot(data=ecdf_df, x='any_homework', hue='Semester', stat='percent', complementary=True)\n",
    "\n",
    "plt.xlim(-2, 42)\n",
    "plt.ylim(0, 100)\n",
    "\n",
    "plt.xlabel(r'Plagiarism ratio / \\%')\n",
    "plt.ylabel(r'Percent of student / \\%')\n",
    "\n",
    "plt.savefig('perc_student_vs_marker_ratio_ecdf.pdf')"
   ]
  },
  {
   "cell_type": "markdown",
   "id": "86f96577",
   "metadata": {},
   "source": [
    "# Mean Homework Marker Ratio"
   ]
  },
  {
   "cell_type": "code",
   "execution_count": 42,
   "id": "448769b8",
   "metadata": {},
   "outputs": [
    {
     "data": {
      "image/png": "[encoded data removed]",
      "text/plain": [
       "<Figure size 240.242x74.2565 with 1 Axes>"
      ]
     },
     "metadata": {
      "needs_background": "light"
     },
     "output_type": "display_data"
    }
   ],
   "source": [
    "fig, axes = make_fig(figure_width=3.3367, \n",
    "                     axis_ratio=5, \n",
    "                     top_margin=0.01, \n",
    "                     bottom_margin=0.48, \n",
    "                     left_margin=0.62, \n",
    "                     right_margin=0.01)\n",
    "\n",
    "sns.barplot(data=marker_ratio_df[(marker_ratio_df.assessment_set_name == 'Homework')\n",
    "                                 & (marker_ratio_df.marker == 'any')], \n",
    "            y='semester', x='ratio', hue='semester', orient='h', order=['sp23', 'fa22'])\n",
    "\n",
    "plt.ylim(-0.75, 1.75)\n",
    "\n",
    "plt.xlabel(r'Mean plagiarism ratio / \\%')\n",
    "plt.ylabel(r'Semester')\n",
    "\n",
    "# It is not a boxplot, was originally a boxplot, too lazy to change latex figure refs\n",
    "plt.savefig('homework_plagiarism_ratio_boxplot.pdf')"
   ]
  },
  {
   "cell_type": "markdown",
   "id": "f95eb236",
   "metadata": {},
   "source": [
    "# Evidence for Plagiarism Source Change"
   ]
  },
  {
   "cell_type": "code",
   "execution_count": 43,
   "id": "5f002c33",
   "metadata": {},
   "outputs": [
    {
     "data": {
      "image/png": "[encoded data removed]",
      "text/plain": [
       "<Figure size 504.403x174.881 with 2 Axes>"
      ]
     },
     "metadata": {
      "needs_background": "light"
     },
     "output_type": "display_data"
    }
   ],
   "source": [
    "fig, axes = make_fig_array(n_vert=1, \n",
    "                           n_horiz=2, \n",
    "                           figure_width=7.0056, \n",
    "                           axis_ratio=2, \n",
    "                           top_margin=0.55, \n",
    "                           bottom_margin=0.43, \n",
    "                           left_margin=0.50, \n",
    "                           right_margin=0.01, \n",
    "                           horiz_sep=0.70, \n",
    "                           vert_sep=0.00, \n",
    "                           share_x_axes=True, \n",
    "                           share_y_axes=False)\n",
    "\n",
    "\n",
    "sns.barplot(data=marker_ratio_df[marker_ratio_df.assessment_set_name == 'Homework'], \n",
    "            x='marker', y='ratio', hue='semester', ax=axes[0][0])\n",
    "axes[0][0].set_ylim(0, 10)\n",
    "axes[0][0].legend(title='Semester', loc='upper center', ncols=2, bbox_to_anchor=(0.5, 1.47))\n",
    "axes[0][0].set_xticks(axes[0][0].get_xticks())\n",
    "axes[0][0].set_xticklabels(['Advanced\\nsyntax', 'Extra\\ncomment', 'Extra\\nprint', 'Extra\\ncode', 'Any'], \n",
    "                           ha='center')\n",
    "axes[0][0].set_xlabel('')\n",
    "axes[0][0].set_ylabel('Mean plagiarism ratio / \\%')\n",
    "\n",
    "sns.barplot(data=plagirism_df, x='marker', y='marker_ratio', hue='source', ax=axes[0][1])\n",
    "axes[0][1].set_ylim(0, 100)\n",
    "axes[0][1].legend(title='Source', loc='upper center', ncols=2, bbox_to_anchor=(0.5, 1.47))\n",
    "axes[0][1].set_xticks(axes[0][1].get_xticks())\n",
    "axes[0][1].set_xticklabels(['Advanced\\nsyntax', 'Extra\\ncomment', 'Extra\\nprint', 'Extra\\ncode', 'Any'], \n",
    "                           ha='center', va='top')\n",
    "axes[0][1].set_xlabel('')\n",
    "axes[0][1].set_ylabel('Mean plagiarism ratio / \\%')\n",
    "\n",
    "plt.savefig('plagiarism_source_change_evidence.pdf')"
   ]
  },
  {
   "cell_type": "code",
   "execution_count": 44,
   "id": "7c5f2ba4",
   "metadata": {},
   "outputs": [
    {
     "data": {
      "text/plain": [
       "86.81159420289855"
      ]
     },
     "execution_count": 44,
     "metadata": {},
     "output_type": "execute_result"
    }
   ],
   "source": [
    "# Upperbound on 1 - false negative rate (sensitivity)\n",
    "plagirism_df[(plagirism_df.source=='Chegg etc.')\n",
    "             & (plagirism_df.marker=='any')].marker_ratio.mean()"
   ]
  },
  {
   "cell_type": "code",
   "execution_count": 45,
   "id": "fe0c1b05",
   "metadata": {},
   "outputs": [
    {
     "data": {
      "text/plain": [
       "84.78260869565217"
      ]
     },
     "execution_count": 45,
     "metadata": {},
     "output_type": "execute_result"
    }
   ],
   "source": [
    "plagirism_df[(plagirism_df.source=='ChatGPT')\n",
    "             & (plagirism_df.marker=='any')].marker_ratio.mean()"
   ]
  },
  {
   "cell_type": "code",
   "execution_count": 46,
   "id": "5441c16e",
   "metadata": {},
   "outputs": [
    {
     "name": "stdout",
     "output_type": "stream",
     "text": [
      "TtestResult(statistic=-20.706082311790045, pvalue=1.0137169268713605e-68, df=485.2485103652275)\n",
      "TtestResult(statistic=-2.9889513112719284, pvalue=0.002880824123235819, df=841.2720583812641)\n",
      "TtestResult(statistic=6.606897770779424, pvalue=6.502403811945522e-11, df=957.560278189469)\n",
      "TtestResult(statistic=7.746248869297733, pvalue=2.508899522034134e-14, df=914.4207802124046)\n",
      "TtestResult(statistic=-6.587563779712377, pvalue=7.692398489428107e-11, df=878.749481780906)\n"
     ]
    }
   ],
   "source": [
    "# t-test for whether there is significant difference in marker ratios, left plot\n",
    "for marker in ['syntax', 'comment', 'print', 'code', 'any']:\n",
    "    print(ttest_ind(marker_ratio_df[(marker_ratio_df.semester == 'fa22')\n",
    "                                    & (marker_ratio_df.assessment_set_name == 'Homework')\n",
    "                                    & (marker_ratio_df.marker == marker)]['ratio'],\n",
    "                    marker_ratio_df[(marker_ratio_df.semester == 'sp23')\n",
    "                                    & (marker_ratio_df.assessment_set_name == 'Homework')\n",
    "                                    & (marker_ratio_df.marker == marker)]['ratio'], equal_var=False))"
   ]
  },
  {
   "cell_type": "code",
   "execution_count": 47,
   "id": "e4dd2026",
   "metadata": {},
   "outputs": [
    {
     "name": "stdout",
     "output_type": "stream",
     "text": [
      "TtestResult(statistic=-0.2668321649376484, pvalue=0.7909483839270306, df=40.62041448623916)\n",
      "TtestResult(statistic=-2.4100127117127377, pvalue=0.02020184930251188, df=43.98151511590625)\n",
      "TtestResult(statistic=3.0023032599096773, pvalue=0.004463057975502909, df=42.73143280680569)\n",
      "TtestResult(statistic=3.3766283611544496, pvalue=0.0015546265857152573, df=43.50611290846094)\n",
      "TtestResult(statistic=0.27661949380022893, pvalue=0.7836151808666902, df=36.917051101513046)\n"
     ]
    }
   ],
   "source": [
    "# t-test for whether there is significant difference in marker ratios, right plot\n",
    "for marker in ['syntax', 'comment', 'print', 'code', 'any']:\n",
    "    print(ttest_ind(plagirism_df[(plagirism_df.source == 'Chegg etc.') \n",
    "                                 & (plagirism_df.marker == marker)]['marker_ratio'],\n",
    "                    plagirism_df[(plagirism_df.source == 'ChatGPT')\n",
    "                                 & (plagirism_df.marker == marker)]['marker_ratio'], equal_var=False))"
   ]
  },
  {
   "cell_type": "code",
   "execution_count": 48,
   "id": "c205600c",
   "metadata": {},
   "outputs": [
    {
     "name": "stdout",
     "output_type": "stream",
     "text": [
      "-0.4259732742625693\n"
     ]
    }
   ],
   "source": [
    "# Effect size of the difference on any marker, left plot\n",
    "from statistics import mean, stdev\n",
    "from math import sqrt\n",
    "\n",
    "c0 = marker_ratio_df[(marker_ratio_df.semester == 'fa22')\n",
    "                     & (marker_ratio_df.assessment_set_name == 'Homework')\n",
    "                     & (marker_ratio_df.marker == 'any')]['ratio']\n",
    "c1 = marker_ratio_df[(marker_ratio_df.semester == 'sp23')\n",
    "                     & (marker_ratio_df.assessment_set_name == 'Homework')\n",
    "                     & (marker_ratio_df.marker == 'any')]['ratio']\n",
    "\n",
    "cohens_d = (mean(c0) - mean(c1)) / (sqrt((stdev(c0) ** 2 + stdev(c1) ** 2) / 2))\n",
    "\n",
    "print(cohens_d)"
   ]
  },
  {
   "cell_type": "markdown",
   "id": "19642bd0",
   "metadata": {},
   "source": [
    "# Distribution of Marker Ratios along Time"
   ]
  },
  {
   "cell_type": "code",
   "execution_count": 49,
   "id": "b26e8044",
   "metadata": {},
   "outputs": [],
   "source": [
    "homework_marker_ratio_df = marker_df[marker_df.assessment_set_name == 'Homework'].copy()\n",
    "\n",
    "for marker in ['syntax', 'comment', 'print', 'code', 'any']:\n",
    "    homework_marker_ratio_df[f'{marker}'] = (homework_marker_ratio_df[f'{marker}'] \n",
    "                                             / homework_marker_ratio_df['total'])\n",
    "\n",
    "homework_marker_ratio_df = (homework_marker_ratio_df[['semester', 'user_id', 'assessment_number', \n",
    "                                                      'syntax', 'comment', 'print', 'code', 'any']])\n",
    "\n",
    "homework_marker_ratio_df['ratio'] = 100 * homework_marker_ratio_df['any']\n",
    "\n",
    "# In case a student has not solved any programming question on homework, add an entry of 0 marker ratios\n",
    "homework_complement_dfs = []\n",
    "for semester, semester_df in homework_marker_ratio_df.groupby('semester'):\n",
    "    semester_user_ids = semester_df.user_id.unique()\n",
    "    for assessment_number in range(1, 14):\n",
    "        assessment_user_ids = semester_df[semester_df.assessment_number == assessment_number].user_id.unique()\n",
    "        num_students_to_add = len(semester_user_ids) - len(assessment_user_ids)\n",
    "        homework_complement_dfs.append(pd.DataFrame([[semester, -1, assessment_number, 0, 0, 0, 0, 0, 0]] * num_students_to_add, \n",
    "                                                    columns=homework_marker_ratio_df.columns))\n",
    "\n",
    "homework_marker_ratio_df = pd.concat([homework_marker_ratio_df] + homework_complement_dfs)"
   ]
  },
  {
   "cell_type": "code",
   "execution_count": 50,
   "id": "807686ac",
   "metadata": {},
   "outputs": [
    {
     "data": {
      "image/png": "[encoded data removed]",
      "text/plain": [
       "<Figure size 504.403x136.737 with 1 Axes>"
      ]
     },
     "metadata": {
      "needs_background": "light"
     },
     "output_type": "display_data"
    }
   ],
   "source": [
    "fig, axes = make_fig(figure_width=7.0056, \n",
    "                     axis_ratio=5, \n",
    "                     top_margin=0.15, \n",
    "                     bottom_margin=0.45, \n",
    "                     left_margin=0.50, \n",
    "                     right_margin=0.01)\n",
    "\n",
    "sns.barplot(data=homework_marker_ratio_df, x='assessment_number', y='ratio', hue='semester')\n",
    "\n",
    "plt.axvline(3.5, color='r', ls=':')\n",
    "plt.axvline(6.5, color='r', ls=':')\n",
    "plt.axvline(9.5, color='r', ls=':')\n",
    "plt.axvline(12.5, color='r', ls=':')\n",
    "\n",
    "plt.text(2.5, 18, 'Proctored exam 1')\n",
    "plt.text(5.5, 18, 'Proctored exam 2')\n",
    "plt.text(8.5, 18, 'Proctored exam 3')\n",
    "plt.text(11.75, 18, 'Final exam')\n",
    "\n",
    "plt.legend(title='Semester')\n",
    "\n",
    "plt.xlim(-0.5, 13.25)\n",
    "plt.ylim(0, 20)\n",
    "\n",
    "plt.xlabel('Homework number')\n",
    "plt.ylabel('Mean plagiarism ratio / \\%')\n",
    "\n",
    "plt.savefig('homework_mean_marker_ratio_vs_time.pdf')"
   ]
  },
  {
   "cell_type": "markdown",
   "id": "193dc97d",
   "metadata": {},
   "source": [
    "# The Linear Regression"
   ]
  },
  {
   "cell_type": "code",
   "execution_count": 51,
   "id": "61eb0260",
   "metadata": {},
   "outputs": [],
   "source": [
    "def list_2d(num_rows, num_columns):\n",
    "    return [[None for _ in range(num_columns)] for _ in range(num_rows)]\n",
    "\n",
    "def homework_between_exams(first_exam, second_exam):\n",
    "    return [i for i in range(5 + 3 * (first_exam - 1), 5 + 3 * (second_exam - 1), 1)]\n",
    "\n",
    "# This is the combined regression, taking interaction with semester\n",
    "def linear_regression(regression_df, first_exam, second_exam):\n",
    "    return smf.ols(f'exam{second_exam} ~ C(semester)*exam{first_exam} + C(semester)*any_ratio', data=regression_df).fit()"
   ]
  },
  {
   "cell_type": "code",
   "execution_count": 52,
   "id": "699e7e60",
   "metadata": {},
   "outputs": [],
   "source": [
    "# We did regression for all exam pairs, but only reports the exam1, exam4 pair in the paper\n",
    "results = list_2d(4, 5)\n",
    "\n",
    "for first_exam in range(1, 4):\n",
    "    for second_exam in range(first_exam + 1, 5):\n",
    "        shared_user_ids = set(score_predicted_pivot_df\n",
    "                              .dropna(subset=[f'exam{first_exam}', \n",
    "                                              f'exam{second_exam}'])\n",
    "                              ['user_id'].unique())\n",
    "        \n",
    "        regression_df = (marker_df[(marker_df.assessment_set_name == 'Homework') \n",
    "                                   & (marker_df.assessment_number.isin(homework_between_exams(first_exam, \n",
    "                                                                                              second_exam))) \n",
    "                                   & (marker_df.user_id.isin(shared_user_ids))]\n",
    "                         .groupby(['semester', 'user_id'])\n",
    "                         .agg({'any' : 'sum', 'total' : 'sum'}))\n",
    "        regression_df['any_ratio'] = regression_df['any'] / regression_df.total\n",
    "        regression_df = regression_df.merge(score_predicted_pivot_df, on=['semester', 'user_id'])\n",
    "\n",
    "        results[first_exam][second_exam] = linear_regression(regression_df, first_exam, second_exam)"
   ]
  },
  {
   "cell_type": "code",
   "execution_count": 53,
   "id": "4a43943e",
   "metadata": {},
   "outputs": [
    {
     "name": "stdout",
     "output_type": "stream",
     "text": [
      "Parameter: Intercept\n",
      "\n",
      "\t      exam2\t\t      exam3\t\t      exam4\n",
      "exam1\t-4.10\t 0.234\t\t-23.28\t 0.000\t\t-5.21\t 0.189\t\t\n",
      "exam2\t\t\t\t-5.43\t 0.075\t\t 13.48\t 0.000\t\t\n",
      "exam3\t\t\t\t\t\t\t 30.04\t 0.000\t\t\n"
     ]
    }
   ],
   "source": [
    "parameter = 'Intercept'\n",
    "print(f'Parameter: {parameter}')\n",
    "print()\n",
    "print(f'\\t      exam2\\t\\t      exam3\\t\\t      exam4')\n",
    "for first_exam in range(1, 4):\n",
    "    print(f'exam{first_exam}\\t', end='')\n",
    "    for second_exam in range(2, 5):\n",
    "        if second_exam <= first_exam:\n",
    "            print('\\t\\t\\t', end='')\n",
    "        else:\n",
    "            print(f'{results[first_exam][second_exam].params[parameter]: .2f}\\t', end='')\n",
    "            print(f'{results[first_exam][second_exam].pvalues[parameter]: .3f}\\t\\t', end='')\n",
    "    print()"
   ]
  },
  {
   "cell_type": "code",
   "execution_count": 54,
   "id": "e14b3ab2",
   "metadata": {},
   "outputs": [
    {
     "name": "stdout",
     "output_type": "stream",
     "text": [
      "Parameter: C(semester)[T.sp23]\n",
      "\n",
      "\t      exam2\t\t      exam3\t\t      exam4\n",
      "exam1\t-5.67\t 0.234\t\t-2.33\t 0.728\t\t-9.94\t 0.076\t\t\n",
      "exam2\t\t\t\t-0.29\t 0.945\t\t-7.56\t 0.034\t\t\n",
      "exam3\t\t\t\t\t\t\t-7.26\t 0.005\t\t\n"
     ]
    }
   ],
   "source": [
    "parameter = 'C(semester)[T.sp23]'\n",
    "print(f'Parameter: {parameter}')\n",
    "print()\n",
    "print(f'\\t      exam2\\t\\t      exam3\\t\\t      exam4')\n",
    "for first_exam in range(1, 4):\n",
    "    print(f'exam{first_exam}\\t', end='')\n",
    "    for second_exam in range(2, 5):\n",
    "        if second_exam <= first_exam:\n",
    "            print('\\t\\t\\t', end='')\n",
    "        else:\n",
    "            print(f'{results[first_exam][second_exam].params[parameter]: .2f}\\t', end='')\n",
    "            print(f'{results[first_exam][second_exam].pvalues[parameter]: .3f}\\t\\t', end='')\n",
    "    print()"
   ]
  },
  {
   "cell_type": "code",
   "execution_count": 55,
   "id": "c8373d63",
   "metadata": {},
   "outputs": [
    {
     "name": "stdout",
     "output_type": "stream",
     "text": [
      "Parameter: first_exam\n",
      "\n",
      "\t      exam2\t\t      exam3\t\t      exam4\n",
      "exam1\t 1.03\t 0.000\t\t 1.18\t 0.000\t\t 1.03\t 0.000\t\t\n",
      "exam2\t\t\t\t 0.99\t 0.000\t\t 0.83\t 0.000\t\t\n",
      "exam3\t\t\t\t\t\t\t 0.68\t 0.000\t\t\n"
     ]
    }
   ],
   "source": [
    "parameter = 'first_exam'\n",
    "print(f'Parameter: {parameter}')\n",
    "print()\n",
    "print(f'\\t      exam2\\t\\t      exam3\\t\\t      exam4')\n",
    "for first_exam in range(1, 4):\n",
    "    print(f'exam{first_exam}\\t', end='')\n",
    "    for second_exam in range(2, 5):\n",
    "        if second_exam <= first_exam:\n",
    "            print('\\t\\t\\t', end='')\n",
    "        else:\n",
    "            print(f'{results[first_exam][second_exam].params[f\"exam{first_exam}\"]: .2f}\\t', end='')\n",
    "            print(f'{results[first_exam][second_exam].pvalues[f\"exam{first_exam}\"]: .3f}\\t\\t', end='')\n",
    "    print()"
   ]
  },
  {
   "cell_type": "code",
   "execution_count": 56,
   "id": "968ea929",
   "metadata": {},
   "outputs": [
    {
     "name": "stdout",
     "output_type": "stream",
     "text": [
      "Parameter: C(semester)[T.sp23]:first_exam\n",
      "\n",
      "\t      exam2\t\t      exam3\t\t      exam4\n",
      "exam1\t 0.01\t 0.813\t\t-0.02\t 0.787\t\t 0.08\t 0.230\t\t\n",
      "exam2\t\t\t\t 0.00\t 0.946\t\t 0.09\t 0.031\t\t\n",
      "exam3\t\t\t\t\t\t\t 0.09\t 0.006\t\t\n"
     ]
    }
   ],
   "source": [
    "parameter = 'C(semester)[T.sp23]:first_exam'\n",
    "print(f'Parameter: {parameter}')\n",
    "print()\n",
    "print(f'\\t      exam2\\t\\t      exam3\\t\\t      exam4')\n",
    "for first_exam in range(1, 4):\n",
    "    print(f'exam{first_exam}\\t', end='')\n",
    "    for second_exam in range(2, 5):\n",
    "        if second_exam <= first_exam:\n",
    "            print('\\t\\t\\t', end='')\n",
    "        else:\n",
    "            print(f'{results[first_exam][second_exam].params[f\"C(semester)[T.sp23]:exam{first_exam}\"]: .2f}\\t', end='')\n",
    "            print(f'{results[first_exam][second_exam].pvalues[f\"C(semester)[T.sp23]:exam{first_exam}\"]: .3f}\\t\\t', end='')\n",
    "    print()"
   ]
  },
  {
   "cell_type": "code",
   "execution_count": 57,
   "id": "26082aaf",
   "metadata": {},
   "outputs": [
    {
     "name": "stdout",
     "output_type": "stream",
     "text": [
      "Parameter: any_ratio\n",
      "\n",
      "\t      exam2\t\t      exam3\t\t      exam4\n",
      "exam1\t-28.31\t 0.000\t\t-68.60\t 0.000\t\t-47.05\t 0.000\t\t\n",
      "exam2\t\t\t\t-40.66\t 0.000\t\t-32.42\t 0.000\t\t\n",
      "exam3\t\t\t\t\t\t\t-10.64\t 0.013\t\t\n"
     ]
    }
   ],
   "source": [
    "parameter = 'any_ratio'\n",
    "print(f'Parameter: {parameter}')\n",
    "print()\n",
    "print(f'\\t      exam2\\t\\t      exam3\\t\\t      exam4')\n",
    "for first_exam in range(1, 4):\n",
    "    print(f'exam{first_exam}\\t', end='')\n",
    "    for second_exam in range(2, 5):\n",
    "        if second_exam <= first_exam:\n",
    "            print('\\t\\t\\t', end='')\n",
    "        else:\n",
    "            print(f'{results[first_exam][second_exam].params[parameter]: .2f}\\t', end='')\n",
    "            print(f'{results[first_exam][second_exam].pvalues[parameter]: .3f}\\t\\t', end='')\n",
    "    print()"
   ]
  },
  {
   "cell_type": "code",
   "execution_count": 58,
   "id": "e72a7a82",
   "metadata": {},
   "outputs": [
    {
     "name": "stdout",
     "output_type": "stream",
     "text": [
      "Parameter: C(semester)[T.sp23]:any_ratio\n",
      "\n",
      "\t      exam2\t\t      exam3\t\t      exam4\n",
      "exam1\t 4.37\t 0.699\t\t 8.62\t 0.529\t\t 11.14\t 0.258\t\t\n",
      "exam2\t\t\t\t 10.92\t 0.236\t\t 14.15\t 0.052\t\t\n",
      "exam3\t\t\t\t\t\t\t 7.61\t 0.188\t\t\n"
     ]
    }
   ],
   "source": [
    "# Whether there is semester difference of plagirism ratio's impact on learning loss\n",
    "parameter = 'C(semester)[T.sp23]:any_ratio'\n",
    "print(f'Parameter: {parameter}')\n",
    "print()\n",
    "print(f'\\t      exam2\\t\\t      exam3\\t\\t      exam4')\n",
    "for first_exam in range(1, 4):\n",
    "    print(f'exam{first_exam}\\t', end='')\n",
    "    for second_exam in range(2, 5):\n",
    "        if second_exam <= first_exam:\n",
    "            print('\\t\\t\\t', end='')\n",
    "        else:\n",
    "            print(f'{results[first_exam][second_exam].params[parameter]: .2f}\\t', end='')\n",
    "            print(f'{results[first_exam][second_exam].pvalues[parameter]: .3f}\\t\\t', end='')\n",
    "    print()"
   ]
  },
  {
   "cell_type": "markdown",
   "id": "38fb28cd",
   "metadata": {},
   "source": [
    "# Linear regression plot"
   ]
  },
  {
   "cell_type": "code",
   "execution_count": 59,
   "id": "c60825fc",
   "metadata": {},
   "outputs": [],
   "source": [
    "results = []\n",
    "\n",
    "first_exam = 1\n",
    "second_exam = 4\n",
    "shared_user_ids = set(score_predicted_pivot_df.dropna(subset=[f'exam{first_exam}', \n",
    "                                                              f'exam{second_exam}'])['user_id'].unique())\n",
    "\n",
    "for semester in ['fa22', 'sp23']:\n",
    "    regression_df = (marker_df[(marker_df.semester == semester) \n",
    "                               & (marker_df.assessment_set_name == 'Homework') \n",
    "                               & (marker_df.assessment_number.isin(homework_between_exams(first_exam, \n",
    "                                                                                          second_exam))) \n",
    "                               & (marker_df.user_id.isin(shared_user_ids))]\n",
    "                     .groupby(['semester', 'user_id'])\n",
    "                     .agg({'any' : 'sum', 'total' : 'sum'})\n",
    "                     .copy())\n",
    "    regression_df['any_ratio'] = regression_df['any'] / regression_df.total\n",
    "    regression_df = regression_df.merge(score_predicted_pivot_df, on=['semester', 'user_id'])\n",
    "    regression_df['exam1'] = regression_df['exam1']\n",
    "    regression_df['exam4'] = regression_df['exam4']\n",
    "    \n",
    "    results.append(linear_regression(regression_df, first_exam, second_exam))"
   ]
  },
  {
   "cell_type": "code",
   "execution_count": 60,
   "id": "fc1eb9f0",
   "metadata": {},
   "outputs": [
    {
     "name": "stdout",
     "output_type": "stream",
     "text": [
      "                            OLS Regression Results                            \n",
      "==============================================================================\n",
      "Dep. Variable:                  exam4   R-squared:                       0.633\n",
      "Model:                            OLS   Adj. R-squared:                  0.632\n",
      "Method:                 Least Squares   F-statistic:                     470.4\n",
      "Date:                Fri, 03 May 2024   Prob (F-statistic):          2.03e-119\n",
      "Time:                        16:51:05   Log-Likelihood:                -2025.5\n",
      "No. Observations:                 548   AIC:                             4057.\n",
      "Df Residuals:                     545   BIC:                             4070.\n",
      "Df Model:                           2                                         \n",
      "Covariance Type:            nonrobust                                         \n",
      "==============================================================================\n",
      "                 coef    std err          t      P>|t|      [0.025      0.975]\n",
      "------------------------------------------------------------------------------\n",
      "Intercept     -5.2080      3.686     -1.413      0.158     -12.449       2.033\n",
      "exam1          1.0294      0.042     24.688      0.000       0.947       1.111\n",
      "any_ratio    -47.0527      6.391     -7.363      0.000     -59.606     -34.500\n",
      "==============================================================================\n",
      "Omnibus:                       17.755   Durbin-Watson:                   2.018\n",
      "Prob(Omnibus):                  0.000   Jarque-Bera (JB):               20.451\n",
      "Skew:                          -0.365   Prob(JB):                     3.62e-05\n",
      "Kurtosis:                       3.602   Cond. No.                     1.35e+03\n",
      "==============================================================================\n",
      "\n",
      "Notes:\n",
      "[1] Standard Errors assume that the covariance matrix of the errors is correctly specified.\n",
      "[2] The condition number is large, 1.35e+03. This might indicate that there are\n",
      "strong multicollinearity or other numerical problems.\n"
     ]
    }
   ],
   "source": [
    "print(results[0].summary())"
   ]
  },
  {
   "cell_type": "code",
   "execution_count": 61,
   "id": "13697fb1",
   "metadata": {},
   "outputs": [
    {
     "name": "stdout",
     "output_type": "stream",
     "text": [
      "                            OLS Regression Results                            \n",
      "==============================================================================\n",
      "Dep. Variable:                  exam4   R-squared:                       0.616\n",
      "Model:                            OLS   Adj. R-squared:                  0.615\n",
      "Method:                 Least Squares   F-statistic:                     344.5\n",
      "Date:                Fri, 03 May 2024   Prob (F-statistic):           5.81e-90\n",
      "Time:                        16:51:05   Log-Likelihood:                -1661.9\n",
      "No. Observations:                 432   AIC:                             3330.\n",
      "Df Residuals:                     429   BIC:                             3342.\n",
      "Df Model:                           2                                         \n",
      "Covariance Type:            nonrobust                                         \n",
      "==============================================================================\n",
      "                 coef    std err          t      P>|t|      [0.025      0.975]\n",
      "------------------------------------------------------------------------------\n",
      "Intercept    -15.1492      4.280     -3.539      0.000     -23.562      -6.736\n",
      "exam1          1.1049      0.048     23.181      0.000       1.011       1.199\n",
      "any_ratio    -35.9098      7.642     -4.699      0.000     -50.931     -20.889\n",
      "==============================================================================\n",
      "Omnibus:                       52.915   Durbin-Watson:                   1.903\n",
      "Prob(Omnibus):                  0.000   Jarque-Bera (JB):              119.521\n",
      "Skew:                          -0.649   Prob(JB):                     1.11e-26\n",
      "Kurtosis:                       5.226   Cond. No.                     1.23e+03\n",
      "==============================================================================\n",
      "\n",
      "Notes:\n",
      "[1] Standard Errors assume that the covariance matrix of the errors is correctly specified.\n",
      "[2] The condition number is large, 1.23e+03. This might indicate that there are\n",
      "strong multicollinearity or other numerical problems.\n"
     ]
    }
   ],
   "source": [
    "print(results[1].summary())"
   ]
  },
  {
   "cell_type": "code",
   "execution_count": 62,
   "id": "ee71acdf",
   "metadata": {},
   "outputs": [],
   "source": [
    "regression_result_df = pd.DataFrame.from_dict({\n",
    "    'Semester' : ['sp23', 'fa22'], \n",
    "    'Gamma' : [-results[1].params['any_ratio'], -results[0].params['any_ratio']], \n",
    "    'sd' : [(results[1].conf_int()[1]['any_ratio'] - results[1].conf_int()[0]['any_ratio']) / 2,\n",
    "            (results[0].conf_int()[1]['any_ratio'] - results[0].conf_int()[0]['any_ratio']) / 2]\n",
    "})"
   ]
  },
  {
   "cell_type": "code",
   "execution_count": 63,
   "id": "1e196ee6",
   "metadata": {},
   "outputs": [
    {
     "data": {
      "image/png": "[encoded data removed]",
      "text/plain": [
       "<Figure size 240.242x82.9206 with 1 Axes>"
      ]
     },
     "metadata": {
      "needs_background": "light"
     },
     "output_type": "display_data"
    }
   ],
   "source": [
    "fig, axes = make_fig(figure_width=3.3367, \n",
    "                     axis_ratio=4, \n",
    "                     top_margin=0.01, \n",
    "                     bottom_margin=0.48, \n",
    "                     left_margin=0.62, \n",
    "                     right_margin=0.07)\n",
    "\n",
    "sns.barplot(data=regression_result_df, x='Gamma', y='Semester', hue='Semester', orient='h',\n",
    "            order=['sp23', 'fa22'])\n",
    "\n",
    "plt.errorbar(y=[0, 1], x=regression_result_df['Gamma'], xerr=regression_result_df['sd'], \n",
    "             lw=1.25, fmt='none', c='#3c4142')\n",
    "\n",
    "plt.xlim(0, 70)\n",
    "plt.ylim(-0.75, 1.75)\n",
    "\n",
    "plt.xticks(np.arange(0, 71, 10))\n",
    "\n",
    "plt.xlabel(r'Learning loss due to plagiarism / \\%')\n",
    "\n",
    "plt.savefig('regression_gamma.pdf')"
   ]
  },
  {
   "cell_type": "markdown",
   "id": "e33ab646",
   "metadata": {},
   "source": [
    "# Correlations between Marker Ratios and Final Exam Scores"
   ]
  },
  {
   "cell_type": "code",
   "execution_count": 64,
   "id": "29d30b72",
   "metadata": {},
   "outputs": [
    {
     "name": "stdout",
     "output_type": "stream",
     "text": [
      "syntax fa22\n",
      " & $-0.18 \\; (<0.001^{***})$ & $-0.09 \\; (0.041^{*})$ & $-0.03 \\; (0.497)$\n",
      "syntax sp23\n",
      " & $-0.25 \\; (<0.001^{***})$ & $-0.25 \\; (<0.001^{***})$ & $0.05 \\; (0.267)$\n",
      "comment fa22\n",
      " & $-0.31 \\; (<0.001^{***})$ & $-0.24 \\; (<0.001^{***})$ & $0.14 \\; (0.001^{**})$\n",
      "comment sp23\n",
      " & $-0.23 \\; (<0.001^{***})$ & $-0.13 \\; (0.008^{**})$ & $0.19 \\; (<0.001^{***})$\n",
      "print fa22\n",
      " & $-0.51 \\; (<0.001^{***})$ & $-0.38 \\; (<0.001^{***})$ & $-0.06 \\; (0.157)$\n",
      "print sp23\n",
      " & $-0.23 \\; (<0.001^{***})$ & $-0.15 \\; (0.002^{**})$ & $-0.05 \\; (0.287)$\n",
      "code fa22\n",
      " & $-0.49 \\; (<0.001^{***})$ & $-0.41 \\; (<0.001^{***})$ & $-0.04 \\; (0.378)$\n",
      "code sp23\n",
      " & $-0.16 \\; (<0.001^{***})$ & $-0.09 \\; (0.069)$ & $-0.06 \\; (0.254)$\n",
      "any fa22\n",
      " & $-0.43 \\; (<0.001^{***})$ & $-0.37 \\; (<0.001^{***})$ & $0.11 \\; (0.010^{*})$\n",
      "any sp23\n",
      " & $-0.32 \\; (<0.001^{***})$ & $-0.25 \\; (<0.001^{***})$ & $0.09 \\; (0.069)$\n"
     ]
    }
   ],
   "source": [
    "def format_pvalue(pvalue):\n",
    "    if pvalue < 0.001:\n",
    "        return f'<0.001^{{***}}'\n",
    "    elif pvalue < 0.01:\n",
    "        return f'{pvalue:.3f}^{{**}}'\n",
    "    elif pvalue < 0.05:\n",
    "        return f'{pvalue:.3f}^{{*}}'\n",
    "    else:\n",
    "        return f'{pvalue:.3f}'\n",
    "\n",
    "correlation_df = marker_ratio_pivot_df.merge(score_actual_pivot_df, on=['semester', 'user_id'])\n",
    "for marker in ['syntax', 'comment', 'print', 'code', 'any']:\n",
    "    for semester in ['fa22', 'sp23']:\n",
    "        print(marker, semester)\n",
    "        for assessment in ['homework', 'quiz', 'exam']:\n",
    "            sub_df = correlation_df.dropna(subset=[f'{marker}_{assessment}', 'exam4'])\n",
    "            sub_df = sub_df[sub_df.semester == semester]\n",
    "            res = scipy.stats.pearsonr(sub_df[f'{marker}_{assessment}'], sub_df['exam4'])\n",
    "            print(f' & ${res.correlation:.2f} \\; ({format_pvalue(res.pvalue)})$', end='')\n",
    "        print()"
   ]
  },
  {
   "cell_type": "markdown",
   "id": "cd18da82",
   "metadata": {},
   "source": [
    "# Scatter Plot of Final Exam Scores vs Marker Ratios, Homework  vs Exam"
   ]
  },
  {
   "cell_type": "code",
   "execution_count": 65,
   "id": "5e9133be",
   "metadata": {},
   "outputs": [
    {
     "data": {
      "image/png": "[encoded data removed]",
      "text/plain": [
       "<Figure size 504.403x227.538 with 8 Axes>"
      ]
     },
     "metadata": {
      "needs_background": "light"
     },
     "output_type": "display_data"
    }
   ],
   "source": [
    "fig, axes = make_fig_array(n_vert=2, \n",
    "                           n_horiz=4, \n",
    "                           figure_width=7.0056, \n",
    "                           axis_ratio=1.618, \n",
    "                           top_margin=0.38, \n",
    "                           bottom_margin=0.48, \n",
    "                           left_margin=0.57, \n",
    "                           right_margin=0.01, \n",
    "                           horiz_sep=0.20, \n",
    "                           vert_sep=0.50, \n",
    "                           share_x_axes=True, \n",
    "                           share_y_axes=True)\n",
    "\n",
    "remove_fig_array_axes(axes, remove_x_axes=True, remove_y_axes=True)\n",
    "\n",
    "assessments = ['homework', 'exam']\n",
    "markers = ['syntax', 'comment', 'code', 'print']\n",
    "markers_full = ['advanced syntax', 'extra comment', 'extra print', 'extra code']\n",
    "\n",
    "for i in range(2):\n",
    "    for j in range(4):\n",
    "        sns.scatterplot(data=correlation_df, \n",
    "                        x=f'{markers[j]}_{assessments[1 - i]}', \n",
    "                        y='exam4', \n",
    "                        alpha=0.25, \n",
    "                        s=5, \n",
    "                        linewidth=0.1, \n",
    "                        ax=axes[i][j])\n",
    "        \n",
    "        sns.regplot(data=correlation_df, \n",
    "                    x=f'{markers[j]}_{assessments[1 - i]}', \n",
    "                    y='exam4', \n",
    "                    scatter=False, \n",
    "                    seed=32,\n",
    "                    color='red', \n",
    "                    ax=axes[i][j])\n",
    "        \n",
    "        axes[i][j].set_title(f'{assessments[1 - i].capitalize()}\\n{markers_full[j]}')\n",
    "        axes[i][j].set_xlim(-2, 42)\n",
    "        axes[i][j].set_ylim(-5, 105)\n",
    "        \n",
    "        if i == 0:\n",
    "            axes[i][j].set_xlabel('Plagiarism ratio / \\%')\n",
    "        else:\n",
    "            axes[i][j].set_xlabel('')\n",
    "        if j == 0:\n",
    "            axes[i][j].set_ylabel('Final exam score / \\%')\n",
    "        else:\n",
    "            axes[i][j].set_ylabel('')\n",
    "\n",
    "plt.savefig('scatter_plot.pdf')"
   ]
  },
  {
   "cell_type": "markdown",
   "id": "c437a124",
   "metadata": {},
   "source": [
    "# Mean Marker Ratios by Assessment Type"
   ]
  },
  {
   "cell_type": "code",
   "execution_count": 66,
   "id": "87f1ffa3",
   "metadata": {},
   "outputs": [
    {
     "data": {
      "image/png": "[encoded data removed]",
      "text/plain": [
       "<Figure size 240.242x129.841 with 1 Axes>"
      ]
     },
     "metadata": {
      "needs_background": "light"
     },
     "output_type": "display_data"
    }
   ],
   "source": [
    "fig, axes = make_fig(figure_width=3.3367, \n",
    "                     axis_ratio=2, \n",
    "                     top_margin=0.10, \n",
    "                     bottom_margin=0.29, \n",
    "                     left_margin=0.50, \n",
    "                     right_margin=0.01)\n",
    "\n",
    "sns.barplot(data=marker_ratio_df[marker_ratio_df.marker=='any'], \n",
    "            x='assessment_set_name', y='ratio', hue='semester', \n",
    "            order=['Homework', 'Quiz', 'Exam'])\n",
    "\n",
    "plt.legend(title='Semester')\n",
    "\n",
    "plt.ylim(0, 10)\n",
    "\n",
    "plt.xlabel(r'')\n",
    "plt.ylabel(r'Mean plagiarism ratio / \\%')\n",
    "\n",
    "plt.savefig('mean_marker_ratio_by_assessment_type.pdf')"
   ]
  }
 ],
 "metadata": {
  "kernelspec": {
   "display_name": "Python 3 (ipykernel)",
   "language": "python",
   "name": "python3"
  },
  "language_info": {
   "codemirror_mode": {
    "name": "ipython",
    "version": 3
   },
   "file_extension": ".py",
   "mimetype": "text/x-python",
   "name": "python",
   "nbconvert_exporter": "python",
   "pygments_lexer": "ipython3",
   "version": "3.10.6"
  }
 },
 "nbformat": 4,
 "nbformat_minor": 5
}
