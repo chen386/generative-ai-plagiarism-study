{
 "cells": [
  {
   "cell_type": "code",
   "execution_count": 1,
   "id": "e88bbfe6",
   "metadata": {},
   "outputs": [],
   "source": [
    "import torch\n",
    "\n",
    "import pandas as pd\n",
    "\n",
    "from datetime import datetime"
   ]
  },
  {
   "cell_type": "code",
   "execution_count": 2,
   "id": "5585872d",
   "metadata": {},
   "outputs": [],
   "source": [
    "class IRT(torch.nn.Module):\n",
    "    def __init__(self, df, q_col, u_col, s_col):\n",
    "        super(IRT, self).__init__()\n",
    "        \n",
    "        self.df = df.sort_values([q_col, u_col])\n",
    "        \n",
    "        self.q = list(self.df[q_col].unique())\n",
    "        self.q_to_index = {q : index for index, q in enumerate(self.q)}\n",
    "        self.num_q = len(self.q)\n",
    "        self.matrix_q = torch.nn.Parameter(torch.sparse_coo_tensor([list(range(len(self.df))), \n",
    "                                                                    [self.q_to_index[q] for q in self.df[q_col]]], \n",
    "                                                                   [1.] * len(self.df), \n",
    "                                                                   (len(self.df), self.num_q)).double(), \n",
    "                                           requires_grad=False)\n",
    "        \n",
    "        self.u = list(self.df[u_col].unique())\n",
    "        self.u_to_index = {u : index for index, u in enumerate(self.u)}\n",
    "        self.num_u = len(self.u)\n",
    "        self.matrix_u = torch.nn.Parameter(torch.sparse_coo_tensor([list(range(len(self.df))), \n",
    "                                                                    [self.u_to_index[u] for u in self.df[u_col]]],\n",
    "                                                                   [1.] * len(self.df), \n",
    "                                                                   (len(self.df), self.num_u)).double(), \n",
    "                                            requires_grad=False)\n",
    "        \n",
    "        self.s = torch.nn.Parameter(torch.tensor(self.df[s_col]).double(), requires_grad=False)\n",
    "        \n",
    "        self.theta = torch.nn.Parameter(torch.normal(torch.zeros(self.num_u), torch.ones(self.num_u)).double())\n",
    "        self.a = torch.nn.Parameter(1 + (torch.rand(self.num_q).double() - 0.5) * 0.5)\n",
    "        self.b = torch.nn.Parameter(torch.normal(torch.zeros(self.num_q), torch.ones(self.num_q)).double())\n",
    "        self.c = torch.nn.Parameter(torch.rand(self.num_q).double() / 4)\n",
    "        \n",
    "    def forward(self):\n",
    "        theta = torch.matmul(self.matrix_u, self.theta)\n",
    "        a = torch.matmul(self.matrix_q, self.a)\n",
    "        b = torch.matmul(self.matrix_q, self.b)\n",
    "        c = torch.matmul(self.matrix_q, self.c)\n",
    "        return c + (1 - c) / (1 + torch.exp(- a * (theta - b)))\n",
    "    \n",
    "    def predict(self, df, q_col, u_col):\n",
    "        matrix_q = torch.sparse_coo_tensor([list(range(len(df))), \n",
    "                                            [self.q_to_index[q] for q in df[q_col]]], \n",
    "                                           [1.] * len(df), \n",
    "                                           (len(df), self.num_q)).double()\n",
    "        matrix_u = torch.sparse_coo_tensor([list(range(len(df))), \n",
    "                                            [self.u_to_index[u] for u in df[u_col]]], \n",
    "                                           [1.] * len(df), \n",
    "                                           (len(df), self.num_u)).double()\n",
    "        if self.s.is_cuda:\n",
    "            matrix_q = matrix_q.cuda()\n",
    "            matrix_u = matrix_u.cuda()\n",
    "        \n",
    "        theta = torch.matmul(matrix_u, self.theta)\n",
    "        a = torch.matmul(matrix_q, self.a)\n",
    "        b = torch.matmul(matrix_q, self.b)\n",
    "        c = torch.matmul(matrix_q, self.c)\n",
    "        return c + (1 - c) / (1 + torch.exp(- a * (theta - b)))"
   ]
  },
  {
   "cell_type": "code",
   "execution_count": 3,
   "id": "b89b98f2",
   "metadata": {},
   "outputs": [],
   "source": [
    "df = pd.read_csv('instance_questions_cs105.zip', compression='zip')\n",
    "df = df[df.semester.isin(['fa22', 'sp23'])]\n",
    "df = df[df.assessment_number.isin([1, 2, 3, 4])]\n",
    "df = df.reset_index(drop=True).copy()"
   ]
  },
  {
   "cell_type": "code",
   "execution_count": 4,
   "id": "2a70c270",
   "metadata": {},
   "outputs": [
    {
     "data": {
      "text/plain": [
       "semester                           object\n",
       "user_id                             int64\n",
       "assessment_set_name                object\n",
       "assessment_number                   int64\n",
       "question_name                      object\n",
       "question_type                      object\n",
       "assessment_question_max_points      int64\n",
       "instance_question_points          float64\n",
       "instance_question_score_perc      float64\n",
       "dtype: object"
      ]
     },
     "execution_count": 4,
     "metadata": {},
     "output_type": "execute_result"
    }
   ],
   "source": [
    "# objects are strings\n",
    "df.dtypes"
   ]
  },
  {
   "cell_type": "code",
   "execution_count": 5,
   "id": "54ccb2df",
   "metadata": {},
   "outputs": [
    {
     "data": {
      "text/html": [
       "<div>\n",
       "<style scoped>\n",
       "    .dataframe tbody tr th:only-of-type {\n",
       "        vertical-align: middle;\n",
       "    }\n",
       "\n",
       "    .dataframe tbody tr th {\n",
       "        vertical-align: top;\n",
       "    }\n",
       "\n",
       "    .dataframe thead th {\n",
       "        text-align: right;\n",
       "    }\n",
       "</style>\n",
       "<table border=\"1\" class=\"dataframe\">\n",
       "  <thead>\n",
       "    <tr style=\"text-align: right;\">\n",
       "      <th></th>\n",
       "      <th>user_id</th>\n",
       "      <th>assessment_number</th>\n",
       "      <th>assessment_question_max_points</th>\n",
       "      <th>instance_question_points</th>\n",
       "      <th>instance_question_score_perc</th>\n",
       "    </tr>\n",
       "  </thead>\n",
       "  <tbody>\n",
       "    <tr>\n",
       "      <th>count</th>\n",
       "      <td>2.401000e+05</td>\n",
       "      <td>240100.000000</td>\n",
       "      <td>240100.000000</td>\n",
       "      <td>240100.000000</td>\n",
       "      <td>240100.000000</td>\n",
       "    </tr>\n",
       "    <tr>\n",
       "      <th>mean</th>\n",
       "      <td>4.177602e+06</td>\n",
       "      <td>2.537693</td>\n",
       "      <td>5.339396</td>\n",
       "      <td>4.356815</td>\n",
       "      <td>82.389007</td>\n",
       "    </tr>\n",
       "    <tr>\n",
       "      <th>std</th>\n",
       "      <td>6.894705e+05</td>\n",
       "      <td>1.154946</td>\n",
       "      <td>1.820471</td>\n",
       "      <td>2.413431</td>\n",
       "      <td>35.270243</td>\n",
       "    </tr>\n",
       "    <tr>\n",
       "      <th>min</th>\n",
       "      <td>1.299640e+05</td>\n",
       "      <td>1.000000</td>\n",
       "      <td>3.000000</td>\n",
       "      <td>0.000000</td>\n",
       "      <td>0.000000</td>\n",
       "    </tr>\n",
       "    <tr>\n",
       "      <th>25%</th>\n",
       "      <td>4.316444e+06</td>\n",
       "      <td>1.000000</td>\n",
       "      <td>3.000000</td>\n",
       "      <td>3.000000</td>\n",
       "      <td>100.000000</td>\n",
       "    </tr>\n",
       "    <tr>\n",
       "      <th>50%</th>\n",
       "      <td>4.319895e+06</td>\n",
       "      <td>3.000000</td>\n",
       "      <td>6.000000</td>\n",
       "      <td>5.000000</td>\n",
       "      <td>100.000000</td>\n",
       "    </tr>\n",
       "    <tr>\n",
       "      <th>75%</th>\n",
       "      <td>4.369411e+06</td>\n",
       "      <td>4.000000</td>\n",
       "      <td>6.000000</td>\n",
       "      <td>6.000000</td>\n",
       "      <td>100.000000</td>\n",
       "    </tr>\n",
       "    <tr>\n",
       "      <th>max</th>\n",
       "      <td>4.422763e+06</td>\n",
       "      <td>4.000000</td>\n",
       "      <td>9.000000</td>\n",
       "      <td>9.000000</td>\n",
       "      <td>100.000000</td>\n",
       "    </tr>\n",
       "  </tbody>\n",
       "</table>\n",
       "</div>"
      ],
      "text/plain": [
       "            user_id  assessment_number  assessment_question_max_points  \\\n",
       "count  2.401000e+05      240100.000000                   240100.000000   \n",
       "mean   4.177602e+06           2.537693                        5.339396   \n",
       "std    6.894705e+05           1.154946                        1.820471   \n",
       "min    1.299640e+05           1.000000                        3.000000   \n",
       "25%    4.316444e+06           1.000000                        3.000000   \n",
       "50%    4.319895e+06           3.000000                        6.000000   \n",
       "75%    4.369411e+06           4.000000                        6.000000   \n",
       "max    4.422763e+06           4.000000                        9.000000   \n",
       "\n",
       "       instance_question_points  instance_question_score_perc  \n",
       "count             240100.000000                 240100.000000  \n",
       "mean                   4.356815                     82.389007  \n",
       "std                    2.413431                     35.270243  \n",
       "min                    0.000000                      0.000000  \n",
       "25%                    3.000000                    100.000000  \n",
       "50%                    5.000000                    100.000000  \n",
       "75%                    6.000000                    100.000000  \n",
       "max                    9.000000                    100.000000  "
      ]
     },
     "execution_count": 5,
     "metadata": {},
     "output_type": "execute_result"
    }
   ],
   "source": [
    "df.describe()"
   ]
  },
  {
   "cell_type": "code",
   "execution_count": 6,
   "id": "20e64fe3",
   "metadata": {},
   "outputs": [],
   "source": [
    "question_name_to_question_type = pd.Series(df.question_type.values, index=df.question_name).to_dict()"
   ]
  },
  {
   "cell_type": "code",
   "execution_count": 7,
   "id": "d87fec1b",
   "metadata": {},
   "outputs": [],
   "source": [
    "semesters = []\n",
    "user_ids = []\n",
    "assessment_set_names = []\n",
    "assessment_numbers = []\n",
    "question_names = []\n",
    "question_types = []\n",
    "\n",
    "for assessment_name in ['Exam', 'Quiz']:\n",
    "    for assessment_number in range(1, 5):\n",
    "        assessment_df = df[(df.assessment_set_name == assessment_name) \n",
    "                           & (df.assessment_number == assessment_number)]\n",
    "        curr_exam_question_names = list(assessment_df.question_name.unique())\n",
    "        curr_exam_question_types = [question_name_to_question_type[question_name] for question_name in curr_exam_question_names]\n",
    "        for semester in ['fa22', 'sp23']:\n",
    "            for user_id in assessment_df[assessment_df.semester == semester].user_id.unique():\n",
    "                semesters.extend([semester] * len(curr_exam_question_names))\n",
    "                user_ids.extend([user_id] * len(curr_exam_question_names))\n",
    "                assessment_set_names.extend([assessment_name] * len(curr_exam_question_names))\n",
    "                assessment_numbers.extend([assessment_number] * len(curr_exam_question_names))\n",
    "                question_names.extend(curr_exam_question_names)\n",
    "                question_types.extend(curr_exam_question_types)"
   ]
  },
  {
   "cell_type": "code",
   "execution_count": 8,
   "id": "7ee7394b",
   "metadata": {},
   "outputs": [],
   "source": [
    "predict_df = pd.DataFrame.from_dict({\n",
    "    'semester' : semesters, \n",
    "    'user_id' : user_ids, \n",
    "    'assessment_set_name' : assessment_set_names, \n",
    "    'assessment_number' : assessment_numbers, \n",
    "    'question_name' : question_names, \n",
    "    'question_type' : question_types\n",
    "})\n",
    "\n",
    "predict_df['q'] = predict_df['question_name']\n",
    "predict_df['u'] = predict_df['semester'] + '_' + predict_df['user_id'].astype(str) + '_' + predict_df['assessment_set_name'] + '_' + predict_df['assessment_number'].astype(str)"
   ]
  },
  {
   "cell_type": "code",
   "execution_count": 9,
   "id": "7e8b605e",
   "metadata": {},
   "outputs": [],
   "source": [
    "irt = torch.load(f'irt_models_l@s/irt_model_final.pkl')"
   ]
  },
  {
   "cell_type": "code",
   "execution_count": 10,
   "id": "296784c0",
   "metadata": {},
   "outputs": [],
   "source": [
    "predict_df['prediction'] = irt.predict(predict_df, 'q', 'u').data.detach().cpu().tolist()"
   ]
  },
  {
   "cell_type": "code",
   "execution_count": 11,
   "id": "9d9fb251",
   "metadata": {},
   "outputs": [],
   "source": [
    "predict_df.to_csv('irt_prediction_l@s.zip', index=False, compression='zip')"
   ]
  }
 ],
 "metadata": {
  "kernelspec": {
   "display_name": "Python 3 (ipykernel)",
   "language": "python",
   "name": "python3"
  },
  "language_info": {
   "codemirror_mode": {
    "name": "ipython",
    "version": 3
   },
   "file_extension": ".py",
   "mimetype": "text/x-python",
   "name": "python",
   "nbconvert_exporter": "python",
   "pygments_lexer": "ipython3",
   "version": "3.10.6"
  }
 },
 "nbformat": 4,
 "nbformat_minor": 5
}
